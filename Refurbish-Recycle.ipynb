{
 "cells": [
  {
   "cell_type": "code",
   "execution_count": 26,
   "id": "5d6b18d1",
   "metadata": {},
   "outputs": [],
   "source": [
    "#importing important packages\n",
    "import numpy as np\n",
    "import pandas as pd\n",
    "import math\n",
    "import matplotlib.pyplot as plt\n",
    "import pandas as pd\n",
    "from scipy.special import logsumexp"
   ]
  },
  {
   "cell_type": "code",
   "execution_count": 27,
   "id": "d984535c",
   "metadata": {
    "scrolled": true
   },
   "outputs": [
    {
     "name": "stdout",
     "output_type": "stream",
     "text": [
      "[[0. 1. 0. 0. 0. 1.]\n",
      " [0. 0. 1. 0. 0. 0.]\n",
      " [0. 0. 0. 1. 0. 0.]\n",
      " [0. 0. 0. 0. 1. 1.]\n",
      " [1. 0. 0. 0. 0. 1.]\n",
      " [0. 0. 0. 0. 0. 0.]]\n"
     ]
    }
   ],
   "source": [
    "#adjacency matrix\n",
    "A = pd.read_excel(r'/Users/farshidnazemi/Documents/Results.xlsx', sheet_name='Refurbish-Recycle',usecols=\"D:I\", header=29, nrows=6)\n",
    "A = np.array(A)\n",
    "A = np.transpose (A)\n",
    "A = np.float64(A)\n",
    "A = np.transpose(A)\n",
    "print (A)"
   ]
  },
  {
   "cell_type": "code",
   "execution_count": 28,
   "id": "a5a6ffa3",
   "metadata": {},
   "outputs": [
    {
     "name": "stdout",
     "output_type": "stream",
     "text": [
      "[[  0.   105.26   0.     0.     0.     5.85]\n",
      " [  0.     0.   100.     0.     0.     0.  ]\n",
      " [  0.     0.     0.    95.     0.     0.  ]\n",
      " [  0.     0.     0.     0.    33.33  23.67]\n",
      " [ 30.     0.     0.     0.     0.     1.67]\n",
      " [  0.     0.     0.     0.     0.     0.  ]]\n"
     ]
    }
   ],
   "source": [
    "#Flow matrix (F)\n",
    "F = pd.read_excel(r'/Users/farshidnazemi/Documents/Results.xlsx', sheet_name='Refurbish-Recycle',usecols=\"L:Q\", header=29, nrows=6)\n",
    "F = np.array(F)\n",
    "F = np.transpose (F)\n",
    "F = np.float64(F)\n",
    "F = np.transpose(F)\n",
    "print (F)"
   ]
  },
  {
   "cell_type": "code",
   "execution_count": 29,
   "id": "69d709a8",
   "metadata": {},
   "outputs": [
    {
     "name": "stdout",
     "output_type": "stream",
     "text": [
      "[86.96  0.    0.    0.    0.    0.  ]\n"
     ]
    }
   ],
   "source": [
    "#Boundary input vector\n",
    "Z = pd.read_excel(r'/Users/farshidnazemi/Documents/Results.xlsx', sheet_name='Refurbish-Recycle',usecols=\"T\", header=29, nrows=6)\n",
    "Z = np.array(Z)\n",
    "Z = np.transpose (Z)\n",
    "Z = np.float64(Z)\n",
    "Z = np.transpose(Z)\n",
    "Z = Z.flatten()\n",
    "print (Z) "
   ]
  },
  {
   "cell_type": "code",
   "execution_count": 30,
   "id": "edbeadf2",
   "metadata": {},
   "outputs": [
    {
     "name": "stdout",
     "output_type": "stream",
     "text": [
      "[ 5.85  5.26  5.   38.    1.67 31.18]\n"
     ]
    }
   ],
   "source": [
    "#Dissipation vector\n",
    "Y = pd.read_excel(r'/Users/farshidnazemi/Documents/Results.xlsx', sheet_name='Refurbish-Recycle',usecols=\"W\", header=29, nrows=6)\n",
    "Y = np.array(Y)\n",
    "Y = np.transpose (Y)\n",
    "Y = np.float64(Y)\n",
    "Y = np.transpose(Y)\n",
    "Y = Y.flatten()\n",
    "print (Y) "
   ]
  },
  {
   "cell_type": "code",
   "execution_count": 31,
   "id": "aefd0ea8",
   "metadata": {},
   "outputs": [
    {
     "name": "stdout",
     "output_type": "stream",
     "text": [
      "[[  0.   105.26   0.     0.     0.     5.85   0.     5.85]\n",
      " [  0.     0.   100.     0.     0.     0.     0.     5.26]\n",
      " [  0.     0.     0.    95.     0.     0.     0.     5.  ]\n",
      " [  0.     0.     0.     0.    33.33  23.67   0.    38.  ]\n",
      " [ 30.     0.     0.     0.     0.     1.67   0.     1.67]\n",
      " [  0.     0.     0.     0.     0.     0.     0.    31.18]\n",
      " [ 86.96   0.     0.     0.     0.     0.     0.     0.  ]\n",
      " [  0.     0.     0.     0.     0.     0.     0.     0.  ]]\n"
     ]
    }
   ],
   "source": [
    "#Total Flow Matrix\n",
    "R = pd.read_excel(r'/Users/farshidnazemi/Documents/Results.xlsx', sheet_name='Refurbish-Recycle',usecols=\"L:S\", header=39, nrows=8)\n",
    "R = np.array(R)\n",
    "R = np.transpose (R)\n",
    "R = np.float64(R)\n",
    "R = np.transpose(R)\n",
    "print (R)"
   ]
  },
  {
   "cell_type": "markdown",
   "id": "929dd1c8",
   "metadata": {},
   "source": [
    "# Structural-based Metrics"
   ]
  },
  {
   "cell_type": "code",
   "execution_count": 32,
   "id": "cd3f3f01",
   "metadata": {},
   "outputs": [],
   "source": [
    "#number of compartments\n",
    "n=len(A)"
   ]
  },
  {
   "cell_type": "code",
   "execution_count": 33,
   "id": "c8c9f33e",
   "metadata": {},
   "outputs": [
    {
     "data": {
      "text/plain": [
       "8"
      ]
     },
     "execution_count": 33,
     "metadata": {},
     "output_type": "execute_result"
    }
   ],
   "source": [
    "#number of links\n",
    "m=0\n",
    "for i in range(len(A)):\n",
    "    for j in range(len(A)):\n",
    "        if A[i,j]==1:\n",
    "            m=m+1   \n",
    "m"
   ]
  },
  {
   "cell_type": "code",
   "execution_count": 34,
   "id": "29293476",
   "metadata": {},
   "outputs": [
    {
     "data": {
      "text/plain": [
       "1.3333333333333333"
      ]
     },
     "execution_count": 34,
     "metadata": {},
     "output_type": "execute_result"
    }
   ],
   "source": [
    "#Link density\n",
    "L_d = m/n\n",
    "L_d"
   ]
  },
  {
   "cell_type": "code",
   "execution_count": 35,
   "id": "e110191c",
   "metadata": {},
   "outputs": [
    {
     "data": {
      "text/plain": [
       "0.2222222222222222"
      ]
     },
     "execution_count": 35,
     "metadata": {},
     "output_type": "execute_result"
    }
   ],
   "source": [
    "#connectance over direct path\n",
    "C_d = m/(n**2)\n",
    "C_d"
   ]
  },
  {
   "cell_type": "code",
   "execution_count": 36,
   "id": "558f9380",
   "metadata": {},
   "outputs": [
    {
     "ename": "LinAlgError",
     "evalue": "Singular matrix",
     "output_type": "error",
     "traceback": [
      "\u001b[0;31m---------------------------------------------------------------------------\u001b[0m",
      "\u001b[0;31mLinAlgError\u001b[0m                               Traceback (most recent call last)",
      "\u001b[0;32m/var/folders/q1/dbyqy0pj3lv2d5259l03mn_00000gn/T/ipykernel_2796/397270299.py\u001b[0m in \u001b[0;36m<module>\u001b[0;34m\u001b[0m\n\u001b[1;32m      1\u001b[0m \u001b[0mI\u001b[0m \u001b[0;34m=\u001b[0m \u001b[0mnp\u001b[0m\u001b[0;34m.\u001b[0m\u001b[0midentity\u001b[0m\u001b[0;34m(\u001b[0m\u001b[0mn\u001b[0m\u001b[0;34m,\u001b[0m\u001b[0mdtype\u001b[0m\u001b[0;34m=\u001b[0m\u001b[0;34m'float64'\u001b[0m\u001b[0;34m)\u001b[0m\u001b[0;34m\u001b[0m\u001b[0;34m\u001b[0m\u001b[0m\n\u001b[0;32m----> 2\u001b[0;31m \u001b[0mB\u001b[0m \u001b[0;34m=\u001b[0m \u001b[0mnp\u001b[0m\u001b[0;34m.\u001b[0m\u001b[0mlinalg\u001b[0m\u001b[0;34m.\u001b[0m\u001b[0minv\u001b[0m\u001b[0;34m(\u001b[0m\u001b[0mI\u001b[0m\u001b[0;34m-\u001b[0m\u001b[0mA\u001b[0m\u001b[0;34m)\u001b[0m\u001b[0;34m\u001b[0m\u001b[0;34m\u001b[0m\u001b[0m\n\u001b[0m\u001b[1;32m      3\u001b[0m \u001b[0mprint\u001b[0m\u001b[0;34m(\u001b[0m\u001b[0mB\u001b[0m\u001b[0;34m)\u001b[0m\u001b[0;34m\u001b[0m\u001b[0;34m\u001b[0m\u001b[0m\n",
      "\u001b[0;32m<__array_function__ internals>\u001b[0m in \u001b[0;36minv\u001b[0;34m(*args, **kwargs)\u001b[0m\n",
      "\u001b[0;32m~/opt/anaconda3/lib/python3.9/site-packages/numpy/linalg/linalg.py\u001b[0m in \u001b[0;36minv\u001b[0;34m(a)\u001b[0m\n\u001b[1;32m    543\u001b[0m     \u001b[0msignature\u001b[0m \u001b[0;34m=\u001b[0m \u001b[0;34m'D->D'\u001b[0m \u001b[0;32mif\u001b[0m \u001b[0misComplexType\u001b[0m\u001b[0;34m(\u001b[0m\u001b[0mt\u001b[0m\u001b[0;34m)\u001b[0m \u001b[0;32melse\u001b[0m \u001b[0;34m'd->d'\u001b[0m\u001b[0;34m\u001b[0m\u001b[0;34m\u001b[0m\u001b[0m\n\u001b[1;32m    544\u001b[0m     \u001b[0mextobj\u001b[0m \u001b[0;34m=\u001b[0m \u001b[0mget_linalg_error_extobj\u001b[0m\u001b[0;34m(\u001b[0m\u001b[0m_raise_linalgerror_singular\u001b[0m\u001b[0;34m)\u001b[0m\u001b[0;34m\u001b[0m\u001b[0;34m\u001b[0m\u001b[0m\n\u001b[0;32m--> 545\u001b[0;31m     \u001b[0mainv\u001b[0m \u001b[0;34m=\u001b[0m \u001b[0m_umath_linalg\u001b[0m\u001b[0;34m.\u001b[0m\u001b[0minv\u001b[0m\u001b[0;34m(\u001b[0m\u001b[0ma\u001b[0m\u001b[0;34m,\u001b[0m \u001b[0msignature\u001b[0m\u001b[0;34m=\u001b[0m\u001b[0msignature\u001b[0m\u001b[0;34m,\u001b[0m \u001b[0mextobj\u001b[0m\u001b[0;34m=\u001b[0m\u001b[0mextobj\u001b[0m\u001b[0;34m)\u001b[0m\u001b[0;34m\u001b[0m\u001b[0;34m\u001b[0m\u001b[0m\n\u001b[0m\u001b[1;32m    546\u001b[0m     \u001b[0;32mreturn\u001b[0m \u001b[0mwrap\u001b[0m\u001b[0;34m(\u001b[0m\u001b[0mainv\u001b[0m\u001b[0;34m.\u001b[0m\u001b[0mastype\u001b[0m\u001b[0;34m(\u001b[0m\u001b[0mresult_t\u001b[0m\u001b[0;34m,\u001b[0m \u001b[0mcopy\u001b[0m\u001b[0;34m=\u001b[0m\u001b[0;32mFalse\u001b[0m\u001b[0;34m)\u001b[0m\u001b[0;34m)\u001b[0m\u001b[0;34m\u001b[0m\u001b[0;34m\u001b[0m\u001b[0m\n\u001b[1;32m    547\u001b[0m \u001b[0;34m\u001b[0m\u001b[0m\n",
      "\u001b[0;32m~/opt/anaconda3/lib/python3.9/site-packages/numpy/linalg/linalg.py\u001b[0m in \u001b[0;36m_raise_linalgerror_singular\u001b[0;34m(err, flag)\u001b[0m\n\u001b[1;32m     86\u001b[0m \u001b[0;34m\u001b[0m\u001b[0m\n\u001b[1;32m     87\u001b[0m \u001b[0;32mdef\u001b[0m \u001b[0m_raise_linalgerror_singular\u001b[0m\u001b[0;34m(\u001b[0m\u001b[0merr\u001b[0m\u001b[0;34m,\u001b[0m \u001b[0mflag\u001b[0m\u001b[0;34m)\u001b[0m\u001b[0;34m:\u001b[0m\u001b[0;34m\u001b[0m\u001b[0;34m\u001b[0m\u001b[0m\n\u001b[0;32m---> 88\u001b[0;31m     \u001b[0;32mraise\u001b[0m \u001b[0mLinAlgError\u001b[0m\u001b[0;34m(\u001b[0m\u001b[0;34m\"Singular matrix\"\u001b[0m\u001b[0;34m)\u001b[0m\u001b[0;34m\u001b[0m\u001b[0;34m\u001b[0m\u001b[0m\n\u001b[0m\u001b[1;32m     89\u001b[0m \u001b[0;34m\u001b[0m\u001b[0m\n\u001b[1;32m     90\u001b[0m \u001b[0;32mdef\u001b[0m \u001b[0m_raise_linalgerror_nonposdef\u001b[0m\u001b[0;34m(\u001b[0m\u001b[0merr\u001b[0m\u001b[0;34m,\u001b[0m \u001b[0mflag\u001b[0m\u001b[0;34m)\u001b[0m\u001b[0;34m:\u001b[0m\u001b[0;34m\u001b[0m\u001b[0;34m\u001b[0m\u001b[0m\n",
      "\u001b[0;31mLinAlgError\u001b[0m: Singular matrix"
     ]
    }
   ],
   "source": [
    "I = np.identity(n,dtype='float64')\n",
    "B = np.linalg.inv(I-A)\n",
    "print(B)"
   ]
  },
  {
   "cell_type": "code",
   "execution_count": 37,
   "id": "b141f1cd",
   "metadata": {},
   "outputs": [
    {
     "ename": "NameError",
     "evalue": "name 'B' is not defined",
     "output_type": "error",
     "traceback": [
      "\u001b[0;31m---------------------------------------------------------------------------\u001b[0m",
      "\u001b[0;31mNameError\u001b[0m                                 Traceback (most recent call last)",
      "\u001b[0;32m/var/folders/q1/dbyqy0pj3lv2d5259l03mn_00000gn/T/ipykernel_2796/3818019284.py\u001b[0m in \u001b[0;36m<module>\u001b[0;34m\u001b[0m\n\u001b[1;32m      1\u001b[0m \u001b[0;31m#Total number of direct & indirect paths\u001b[0m\u001b[0;34m\u001b[0m\u001b[0;34m\u001b[0m\u001b[0m\n\u001b[1;32m      2\u001b[0m \u001b[0mm_t\u001b[0m\u001b[0;34m=\u001b[0m\u001b[0;36m0\u001b[0m\u001b[0;34m\u001b[0m\u001b[0;34m\u001b[0m\u001b[0m\n\u001b[0;32m----> 3\u001b[0;31m \u001b[0;32mfor\u001b[0m \u001b[0mi\u001b[0m \u001b[0;32min\u001b[0m \u001b[0mrange\u001b[0m\u001b[0;34m(\u001b[0m\u001b[0mlen\u001b[0m\u001b[0;34m(\u001b[0m\u001b[0mB\u001b[0m\u001b[0;34m)\u001b[0m\u001b[0;34m)\u001b[0m\u001b[0;34m:\u001b[0m\u001b[0;34m\u001b[0m\u001b[0;34m\u001b[0m\u001b[0m\n\u001b[0m\u001b[1;32m      4\u001b[0m     \u001b[0;32mfor\u001b[0m \u001b[0mj\u001b[0m \u001b[0;32min\u001b[0m \u001b[0mrange\u001b[0m\u001b[0;34m(\u001b[0m\u001b[0mlen\u001b[0m\u001b[0;34m(\u001b[0m\u001b[0mB\u001b[0m\u001b[0;34m)\u001b[0m\u001b[0;34m)\u001b[0m\u001b[0;34m:\u001b[0m\u001b[0;34m\u001b[0m\u001b[0;34m\u001b[0m\u001b[0m\n\u001b[1;32m      5\u001b[0m         \u001b[0;32mif\u001b[0m \u001b[0mB\u001b[0m\u001b[0;34m[\u001b[0m\u001b[0mi\u001b[0m\u001b[0;34m,\u001b[0m\u001b[0mj\u001b[0m\u001b[0;34m]\u001b[0m\u001b[0;34m!=\u001b[0m\u001b[0;36m0\u001b[0m\u001b[0;34m:\u001b[0m\u001b[0;34m\u001b[0m\u001b[0;34m\u001b[0m\u001b[0m\n",
      "\u001b[0;31mNameError\u001b[0m: name 'B' is not defined"
     ]
    }
   ],
   "source": [
    "#Total number of direct & indirect paths\n",
    "m_t=0\n",
    "for i in range(len(B)):\n",
    "    for j in range(len(B)):\n",
    "        if B[i,j]!=0:\n",
    "            m_t = m_t + B[i,j] \n",
    "m_t"
   ]
  },
  {
   "cell_type": "code",
   "execution_count": 38,
   "id": "bb512601",
   "metadata": {},
   "outputs": [
    {
     "data": {
      "text/plain": [
       "0.0"
      ]
     },
     "execution_count": 38,
     "metadata": {},
     "output_type": "execute_result"
    }
   ],
   "source": [
    "#Connectance over all paths\n",
    "C_t = m_t / n**2\n",
    "C_t"
   ]
  },
  {
   "cell_type": "code",
   "execution_count": 39,
   "id": "ee543ce5",
   "metadata": {},
   "outputs": [
    {
     "data": {
      "text/plain": [
       "(0.9999999999999998+0j)"
      ]
     },
     "execution_count": 39,
     "metadata": {},
     "output_type": "execute_result"
    }
   ],
   "source": [
    "#pathway proliferation rate\n",
    "#Find the maximum eigenvalue using NumPy\n",
    "eigenvalues, eigenvectors = np.linalg.eig(A)\n",
    "# The eigenvalues array contains the eigenvalues of the matrix\n",
    "PP = np.max(eigenvalues)\n",
    "PP"
   ]
  },
  {
   "cell_type": "code",
   "execution_count": 40,
   "id": "2bc8542e",
   "metadata": {},
   "outputs": [
    {
     "data": {
      "text/plain": [
       "2.4056390621093278"
      ]
     },
     "execution_count": 40,
     "metadata": {},
     "output_type": "execute_result"
    }
   ],
   "source": [
    "#Degree diversity\n",
    "D = np.sum(A, axis=0)\n",
    "D_dot = np.sum (D)\n",
    "DD = 0\n",
    "epsilon = 1e-10  # A very small number\n",
    "for i in range(n):\n",
    "    DD += -((D[i] / (D_dot + epsilon)) * (math.log((D[i] + epsilon) / (D_dot + epsilon), 2)))\n",
    "DD"
   ]
  },
  {
   "cell_type": "markdown",
   "id": "0b6f95fd",
   "metadata": {},
   "source": [
    "# Flow-based Metrics"
   ]
  },
  {
   "cell_type": "code",
   "execution_count": 41,
   "id": "7a62fedf",
   "metadata": {},
   "outputs": [
    {
     "name": "stdout",
     "output_type": "stream",
     "text": [
      "Total Boundary Input = 86.96\n"
     ]
    }
   ],
   "source": [
    "#Total boundary input\n",
    "TBI = np.sum(Z)\n",
    "print(\"Total Boundary Input =\", TBI)"
   ]
  },
  {
   "cell_type": "code",
   "execution_count": 42,
   "id": "05799097",
   "metadata": {},
   "outputs": [
    {
     "name": "stdout",
     "output_type": "stream",
     "text": [
      "Total Internal Flow = 394.78000000000003\n"
     ]
    }
   ],
   "source": [
    "#Total Internal Flow\n",
    "TIF = np.sum(F)\n",
    "print(\"Total Internal Flow =\", TIF)"
   ]
  },
  {
   "cell_type": "code",
   "execution_count": 43,
   "id": "755ab7ad",
   "metadata": {},
   "outputs": [
    {
     "name": "stdout",
     "output_type": "stream",
     "text": [
      "Total Input (Output) Throughflows = [116.96 105.26 100.    95.    33.33  31.19]\n"
     ]
    }
   ],
   "source": [
    "#Total Input (Output) Throughflows\n",
    "T_i = np.sum(F, axis=0) + Z\n",
    "print(\"Total Input (Output) Throughflows =\", T_i)"
   ]
  },
  {
   "cell_type": "code",
   "execution_count": 44,
   "id": "bb470bba",
   "metadata": {},
   "outputs": [
    {
     "name": "stdout",
     "output_type": "stream",
     "text": [
      "Non-dimensional flow intensities (G) =\n",
      "[[0.   1.   0.   0.   0.   0.19]\n",
      " [0.   0.   1.   0.   0.   0.  ]\n",
      " [0.   0.   0.   1.   0.   0.  ]\n",
      " [0.   0.   0.   0.   1.   0.76]\n",
      " [0.26 0.   0.   0.   0.   0.05]\n",
      " [0.   0.   0.   0.   0.   0.  ]]\n"
     ]
    }
   ],
   "source": [
    "#Flow Analysis (identifies non-dimentional flow intensities along indirect pathways)\n",
    "G = F/T_i\n",
    "\n",
    "# Configure printing options for NumPy\n",
    "np.set_printoptions(precision=2, suppress=True)\n",
    "# Print the matrix in an organized way\n",
    "print(\"Non-dimensional flow intensities (G) =\")\n",
    "print(G)"
   ]
  },
  {
   "cell_type": "code",
   "execution_count": 45,
   "id": "e278cbe1",
   "metadata": {},
   "outputs": [
    {
     "name": "stdout",
     "output_type": "stream",
     "text": [
      "Dimentionless Integral intensities matrix (N) =\n",
      "[[1.34 1.34 1.34 1.34 1.34 1.34]\n",
      " [0.34 1.34 1.34 1.34 1.34 1.16]\n",
      " [0.34 0.34 1.34 1.34 1.34 1.16]\n",
      " [0.34 0.34 0.34 1.34 1.34 1.16]\n",
      " [0.34 0.34 0.34 0.34 1.34 0.4 ]\n",
      " [0.   0.   0.   0.   0.   1.  ]]\n"
     ]
    }
   ],
   "source": [
    "#Dimentionless Integral intensities matrix\n",
    "I=np.identity(n,dtype='float64')\n",
    "N=np.linalg.inv(I-G)\n",
    "# Configure printing options for NumPy\n",
    "np.set_printoptions(precision=2, suppress=True)\n",
    "# Print the matrix in an organized way\n",
    "print(\"Dimentionless Integral intensities matrix (N) =\")\n",
    "print(N)"
   ]
  },
  {
   "cell_type": "code",
   "execution_count": 46,
   "id": "c5aae44c",
   "metadata": {},
   "outputs": [
    {
     "name": "stdout",
     "output_type": "stream",
     "text": [
      "Utility Intensities (D) =\n",
      "[[ 0.   -0.9   0.    0.    0.26 -0.05]\n",
      " [ 1.    0.   -0.95  0.    0.    0.  ]\n",
      " [ 0.    1.    0.   -0.95  0.    0.  ]\n",
      " [ 0.    0.    1.    0.   -0.35 -0.25]\n",
      " [-0.9   0.    0.    1.    0.   -0.05]\n",
      " [ 0.19  0.    0.    0.76  0.05  0.  ]]\n"
     ]
    }
   ],
   "source": [
    "#Utility Analysis\n",
    "D=np.zeros((n,n),dtype='float64')\n",
    "for i in range (n):\n",
    "    for j in range (n):\n",
    "        D[i,j]=(F[j,i]-F[i,j])/(T_i[i]+epsilon)\n",
    "\n",
    "# Configure printing options for NumPy\n",
    "np.set_printoptions(precision=2, suppress=True)\n",
    "# Print the matrix in an organized way\n",
    "print(\"Utility Intensities (D) =\")\n",
    "print(D)"
   ]
  },
  {
   "cell_type": "code",
   "execution_count": 47,
   "id": "09626c02",
   "metadata": {},
   "outputs": [
    {
     "name": "stdout",
     "output_type": "stream",
     "text": [
      "Integral Utility Intensities (U) =\n",
      "[[ 0.56 -0.29  0.22 -0.06  0.16 -0.02]\n",
      " [ 0.39  0.43 -0.22  0.19  0.03 -0.07]\n",
      " [ 0.18  0.3   0.46 -0.26  0.14  0.05]\n",
      " [ 0.22  0.14  0.34  0.47 -0.12 -0.12]\n",
      " [-0.3   0.4   0.13  0.5   0.74 -0.15]\n",
      " [ 0.26  0.07  0.3   0.37 -0.02  0.9 ]]\n"
     ]
    }
   ],
   "source": [
    "#Utility Intensities\n",
    "U=np.linalg.inv(I-D)\n",
    "# Configure printing options for NumPy\n",
    "np.set_printoptions(precision=2, suppress=True)\n",
    "# Print the matrix in an organized way\n",
    "print(\"Integral Utility Intensities (U) =\")\n",
    "print(U)"
   ]
  },
  {
   "cell_type": "code",
   "execution_count": 48,
   "id": "c16299ed",
   "metadata": {},
   "outputs": [
    {
     "name": "stdout",
     "output_type": "stream",
     "text": [
      "Total System Throughflows (TST_flow) = 394.78000000000003\n"
     ]
    }
   ],
   "source": [
    "#Total System Throughflow\n",
    "TST_flow = np.sum(F)\n",
    "print(\"Total System Throughflows (TST_flow) =\", TST_flow)"
   ]
  },
  {
   "cell_type": "code",
   "execution_count": 49,
   "id": "5a3c7f3e",
   "metadata": {},
   "outputs": [
    {
     "name": "stdout",
     "output_type": "stream",
     "text": [
      "Total System Throughput (TST_put) = 568.7\n"
     ]
    }
   ],
   "source": [
    "#Total System Throughput\n",
    "TST_put = np.sum(R)\n",
    "print(\"Total System Throughput (TST_put) =\", TST_put)"
   ]
  },
  {
   "cell_type": "code",
   "execution_count": 50,
   "id": "12fab3ab",
   "metadata": {},
   "outputs": [
    {
     "name": "stdout",
     "output_type": "stream",
     "text": [
      "Average Path Length (APL) = 4.539788408458442\n"
     ]
    }
   ],
   "source": [
    "#Average Path Length\n",
    "APL = TST_flow/(np.sum(Z)+epsilon)\n",
    "print(\"Average Path Length (APL) =\", APL)"
   ]
  },
  {
   "cell_type": "code",
   "execution_count": 51,
   "id": "7a026279",
   "metadata": {},
   "outputs": [
    {
     "name": "stdout",
     "output_type": "stream",
     "text": [
      "Ratio of direct to indirect flows (I/D) = 3.21355757958749\n"
     ]
    }
   ],
   "source": [
    "#Ratio of direct to indirect flows (I/D)\n",
    "I_D = np.sum((N-I-G)@T_i)/np.sum(G@T_i)\n",
    "print(\"Ratio of direct to indirect flows (I/D) =\", I_D)"
   ]
  },
  {
   "cell_type": "code",
   "execution_count": 52,
   "id": "7d0b3979",
   "metadata": {},
   "outputs": [
    {
     "name": "stdout",
     "output_type": "stream",
     "text": [
      "Indirect effect index (IEI) = 0.7626708592177585\n"
     ]
    }
   ],
   "source": [
    "#Indirect effects Index\n",
    "IEI = I_D/(1+I_D)\n",
    "print(\"Indirect effect index (IEI) =\", IEI)"
   ]
  },
  {
   "cell_type": "code",
   "execution_count": 53,
   "id": "a4328059",
   "metadata": {},
   "outputs": [
    {
     "name": "stdout",
     "output_type": "stream",
     "text": [
      "Finn's cycling index (FCI) = 0.2927330424003145\n"
     ]
    }
   ],
   "source": [
    "#Finn's cycling index\n",
    "#Cycled flow of node i: TSTci\n",
    "TSTci=np.zeros((n),dtype='float64')\n",
    "FCI=0.0\n",
    "for i in range (n):\n",
    "    TSTci[i]=((N[i,i]-1)/N[i,i])*T_i[i]\n",
    "for i in range (n):\n",
    "    FCI=FCI+TSTci[i]/TST_flow\n",
    "print(\"Finn's cycling index (FCI) =\", FCI)"
   ]
  },
  {
   "cell_type": "code",
   "execution_count": 54,
   "id": "b7ab7754",
   "metadata": {},
   "outputs": [
    {
     "name": "stdout",
     "output_type": "stream",
     "text": [
      "Amplification = 19\n"
     ]
    }
   ],
   "source": [
    "#Amplification\n",
    "AMP = 0\n",
    "# Iterate through the matrix and count elements larger than 1\n",
    "for row in N:\n",
    "    for element in row:\n",
    "        if element > 1:\n",
    "            AMP += 1\n",
    "\n",
    "print(\"Amplification =\", AMP)"
   ]
  },
  {
   "cell_type": "code",
   "execution_count": 55,
   "id": "ee0aa7c5",
   "metadata": {},
   "outputs": [
    {
     "name": "stdout",
     "output_type": "stream",
     "text": [
      "Amplification percentage = 0.6333333333333333\n"
     ]
    }
   ],
   "source": [
    "#Amplification percentage\n",
    "AMP_per = AMP/(n*(n-1))\n",
    "print(\"Amplification percentage =\", AMP_per)"
   ]
  },
  {
   "cell_type": "markdown",
   "id": "a7b8e4d7",
   "metadata": {},
   "source": [
    "## Utility Analysis "
   ]
  },
  {
   "cell_type": "code",
   "execution_count": 56,
   "id": "49834ddc",
   "metadata": {},
   "outputs": [
    {
     "data": {
      "text/plain": [
       "6"
      ]
     },
     "execution_count": 56,
     "metadata": {},
     "output_type": "execute_result"
    }
   ],
   "source": [
    "U.shape[0]\n"
   ]
  },
  {
   "cell_type": "code",
   "execution_count": 58,
   "id": "e88a0ced",
   "metadata": {},
   "outputs": [
    {
     "name": "stdout",
     "output_type": "stream",
     "text": [
      "Product Manufacturer (1) <-> Service Provider (2): Exploitation\n",
      "Product Manufacturer (1) <-> User/Consumer (3): Mutualism\n",
      "Product Manufacturer (1) <-> Collection (EoL) (4): Exploitation\n",
      "Product Manufacturer (1) <-> Refurbish-recycle (5): Exploitation\n",
      "Product Manufacturer (1) <-> Ultimate EoL (6): Exploitation\n",
      "Service Provider (2) <-> User/Consumer (3): Exploitation\n",
      "Service Provider (2) <-> Collection (EoL) (4): Mutualism\n",
      "Service Provider (2) <-> Refurbish-recycle (5): Mutualism\n",
      "Service Provider (2) <-> Ultimate EoL (6): Exploitation\n",
      "User/Consumer (3) <-> Collection (EoL) (4): Exploitation\n",
      "User/Consumer (3) <-> Refurbish-recycle (5): Mutualism\n",
      "User/Consumer (3) <-> Ultimate EoL (6): Mutualism\n",
      "Collection (EoL) (4) <-> Refurbish-recycle (5): Exploitation\n",
      "Collection (EoL) (4) <-> Ultimate EoL (6): Exploitation\n",
      "Refurbish-recycle (5) <-> Ultimate EoL (6): Competition\n"
     ]
    }
   ],
   "source": [
    "#Network relationships\n",
    "m = U.shape[0]\n",
    "# Create a dictionary to store the relationships\n",
    "relationships = {}\n",
    "\n",
    "# Process descriptions\n",
    "process_descriptions = {\n",
    "    0: \"Product Manufacturer (1)\",\n",
    "    1: \"Service Provider (2)\",\n",
    "    2: \"User/Consumer (3)\",\n",
    "    3: \"Collection (EoL) (4)\",\n",
    "    4: \"Refurbish-recycle (5)\",\n",
    "    5: \"Ultimate EoL (6)\"\n",
    "    \n",
    "}\n",
    "\n",
    "# Iterate through each pair of processes\n",
    "for i in range(m):\n",
    "    for j in range(i+1, m):\n",
    "        Uij = U[i, j]\n",
    "        Uji = U[j, i]\n",
    "\n",
    "        if Uij == 0 and Uji == 0:\n",
    "            relationship = \"No Relationship\"\n",
    "        elif Uij > 0 and Uji > 0:\n",
    "            relationship = \"Mutualism\"\n",
    "        elif Uij < 0 and Uji < 0:\n",
    "            relationship = \"Competition\"\n",
    "        else:\n",
    "            relationship = \"Exploitation\"\n",
    "\n",
    "        process_i = process_descriptions[i]\n",
    "        process_j = process_descriptions[j]\n",
    "\n",
    "        relationships[f\"{process_i} <-> {process_j}\"] = relationship\n",
    "\n",
    "# Print the relationships\n",
    "for process_pair, relationship in relationships.items():\n",
    "    print(f\"{process_pair}: {relationship}\")"
   ]
  },
  {
   "cell_type": "code",
   "execution_count": 59,
   "id": "69c4e71f",
   "metadata": {},
   "outputs": [
    {
     "name": "stdout",
     "output_type": "stream",
     "text": [
      "Network Synergism: 4.913702617665425\n"
     ]
    }
   ],
   "source": [
    "#synergism \n",
    "# Calculate the ratio of the sum of positive entries over the sum of negative entries\n",
    "positive_sum = np.sum(U[U > 0])\n",
    "negative_sum = np.sum(U[U < 0])\n",
    "\n",
    "# Avoid division by zero if there are no negative values\n",
    "if negative_sum != 0:\n",
    "    syn = positive_sum / abs(negative_sum)\n",
    "else:\n",
    "    syn = \"Undefined (no negative entries)\"\n",
    "\n",
    "print(\"Network Synergism:\", syn)"
   ]
  },
  {
   "cell_type": "code",
   "execution_count": 60,
   "id": "3b7f105a",
   "metadata": {},
   "outputs": [
    {
     "name": "stdout",
     "output_type": "stream",
     "text": [
      "Network mutualism: 2.272727272727273\n"
     ]
    }
   ],
   "source": [
    "#mutualism\n",
    "# Calculate the ratio of the number of positive entries over the number of negative entries\n",
    "positive_count = np.sum(U > 0)\n",
    "negative_count = np.sum(U < 0)\n",
    "\n",
    "# Avoid division by zero if there are no negative values\n",
    "if negative_count != 0:\n",
    "    mut = positive_count / negative_count\n",
    "else:\n",
    "    mut = \"Undefined (no negative entries)\"\n",
    "\n",
    "# Print the ratio\n",
    "print(\"Network mutualism:\", mut)"
   ]
  },
  {
   "cell_type": "code",
   "execution_count": 61,
   "id": "b3ff7166",
   "metadata": {},
   "outputs": [
    {
     "name": "stdout",
     "output_type": "stream",
     "text": [
      "Network Homogenization: 3.4525686794999264\n"
     ]
    }
   ],
   "source": [
    "#homogenization\n",
    "\n",
    "# Function to calculate the coefficient of variation (CV)\n",
    "def coefficient_of_variation(matrix):\n",
    "    mean = np.mean(matrix)\n",
    "    std_dev = np.std(matrix)\n",
    "    \n",
    "    if mean != 0:\n",
    "        cv = std_dev / mean\n",
    "    else:\n",
    "        cv = \"Undefined (mean is zero)\"\n",
    "    \n",
    "    return cv\n",
    "\n",
    "# Calculate the CV for matrices G and N\n",
    "cv_G = coefficient_of_variation(G)\n",
    "cv_N = coefficient_of_variation(N)\n",
    "\n",
    "# Calculate the ratio of CV(G) over CV(N)\n",
    "if cv_N != 0:\n",
    "    hom = cv_G / cv_N\n",
    "else:\n",
    "    hom = \"Undefined (CV(N) is zero)\"\n",
    "\n",
    "# Print the ratio\n",
    "print(\"Network Homogenization:\", hom)"
   ]
  },
  {
   "cell_type": "code",
   "execution_count": 62,
   "id": "39bea09e",
   "metadata": {},
   "outputs": [
    {
     "name": "stdout",
     "output_type": "stream",
     "text": [
      "Flow Diversity: 2.6151735621605474\n"
     ]
    }
   ],
   "source": [
    "#Throughflow diversity\n",
    "FD = 0\n",
    "epsilon = 1e-10  # A very small number\n",
    "for i in range(n):\n",
    "    FD += -((T_i[i] / (TST_flow + epsilon)) * (math.log((T_i[i] + epsilon) / (TST_flow + epsilon), 2)))\n",
    "print(\"Flow Diversity:\", FD)"
   ]
  },
  {
   "cell_type": "markdown",
   "id": "f0e6245c",
   "metadata": {},
   "source": [
    "## Information Theory "
   ]
  },
  {
   "cell_type": "code",
   "execution_count": 63,
   "id": "a3409142",
   "metadata": {},
   "outputs": [
    {
     "name": "stdout",
     "output_type": "stream",
     "text": [
      "Development Capacity = 1814.0949795842262\n"
     ]
    }
   ],
   "source": [
    "#Development capacity\n",
    "DC = 0.0\n",
    "\n",
    "for i in range(len(R)):\n",
    "    for j in range(len(R)):\n",
    "        if i != j:\n",
    "            DC += -(R[i, j] * np.log2(R[i, j] / TST_put + epsilon))\n",
    "\n",
    "# Print the ascendancy\n",
    "print(\"Development Capacity =\", DC)"
   ]
  },
  {
   "cell_type": "code",
   "execution_count": 64,
   "id": "638d626a",
   "metadata": {},
   "outputs": [
    {
     "name": "stdout",
     "output_type": "stream",
     "text": [
      "Ascendency = 1229.318983334804\n"
     ]
    }
   ],
   "source": [
    "#Ascendency\n",
    "ASC = 0.0\n",
    "for i in range(len(R)):\n",
    "    for j in range(len(R)):\n",
    "        if i != j:\n",
    "            numerator = R[i, j]\n",
    "            denominator = np.sum(R[i, :]+ epsilon) * (np.sum(R[:, j]) + epsilon)\n",
    "            ASC += numerator * np.log2(((numerator*TST_put) /denominator)+epsilon)\n",
    "# Print the ascendancy\n",
    "print(\"Ascendency =\", ASC)"
   ]
  },
  {
   "cell_type": "code",
   "execution_count": 65,
   "id": "61eee9c4",
   "metadata": {},
   "outputs": [
    {
     "name": "stdout",
     "output_type": "stream",
     "text": [
      "Redundancy = 584.7759961644103\n"
     ]
    }
   ],
   "source": [
    "#Redundancy\n",
    "PHI = 0.0\n",
    "for i in range(len(R)):\n",
    "    for j in range(len(R)):\n",
    "        if i != j:\n",
    "            numerator = R[i, j]\n",
    "            denominator = np.sum(R[i, :]+ epsilon) * (np.sum(R[:, j]) + epsilon)\n",
    "            PHI += -numerator * np.log2(((numerator**2) /denominator)+epsilon)\n",
    "\n",
    "# Print the ascendancy\n",
    "print(\"Redundancy =\", PHI)"
   ]
  },
  {
   "cell_type": "code",
   "execution_count": 66,
   "id": "85fb9624",
   "metadata": {},
   "outputs": [
    {
     "name": "stdout",
     "output_type": "stream",
     "text": [
      "Relative Ascendency = 0.6776486331584207\n"
     ]
    }
   ],
   "source": [
    "#Ratio of ascendency to development capacity\n",
    "R_ASC = ASC/DC\n",
    "print(\"Relative Ascendency =\", R_ASC)"
   ]
  },
  {
   "cell_type": "code",
   "execution_count": 67,
   "id": "f59c56d0",
   "metadata": {},
   "outputs": [
    {
     "name": "stdout",
     "output_type": "stream",
     "text": [
      "Internal Development Capacity = 1177.1876944078274\n"
     ]
    }
   ],
   "source": [
    "#Internal Development capacity\n",
    "DC_i = 0.0\n",
    "for i in range(len(F)):\n",
    "    for j in range(len(F)):\n",
    "        if i != j:\n",
    "            DC_i += -(F[i, j] * np.log2(F[i, j] / TST_put + epsilon))\n",
    "\n",
    "# Print the ascendancy\n",
    "print(\"Internal Development Capacity =\", DC_i)"
   ]
  },
  {
   "cell_type": "code",
   "execution_count": 68,
   "id": "d5bf9633",
   "metadata": {},
   "outputs": [
    {
     "name": "stdout",
     "output_type": "stream",
     "text": [
      "Internal Ascendency = 1048.2801424249622\n"
     ]
    }
   ],
   "source": [
    "#Internal ascendency\n",
    "ASC_i = 0.0\n",
    "for i in range(len(F)):\n",
    "    for j in range(len(F)):\n",
    "        if i != j:\n",
    "            numerator = F[i, j]\n",
    "            denominator = np.sum(F[i, :]+ epsilon) * (np.sum(F[:, j]) + epsilon)\n",
    "            ASC_i += numerator * np.log2(((numerator*TST_put) /denominator)+epsilon)\n",
    "# Print the ascendancy\n",
    "print(\"Internal Ascendency =\", ASC_i)"
   ]
  },
  {
   "cell_type": "code",
   "execution_count": 69,
   "id": "b820ffbd",
   "metadata": {},
   "outputs": [
    {
     "name": "stdout",
     "output_type": "stream",
     "text": [
      "Internal Redundancy = 128.90755241074132\n"
     ]
    }
   ],
   "source": [
    "#Internal Redundancy\n",
    "PHI_i = 0.0\n",
    "for i in range(len(F)):\n",
    "    for j in range(len(F)):\n",
    "        if i != j:\n",
    "            numerator = F[i, j]\n",
    "            denominator = np.sum(F[i, :]+ epsilon) * (np.sum(F[:, j]) + epsilon)\n",
    "            PHI_i += -numerator * np.log2(((numerator**2) /denominator)+epsilon)\n",
    "\n",
    "# Print the ascendancy\n",
    "print(\"Internal Redundancy =\", PHI_i)"
   ]
  },
  {
   "cell_type": "code",
   "execution_count": 70,
   "id": "e1e067fe",
   "metadata": {},
   "outputs": [
    {
     "name": "stdout",
     "output_type": "stream",
     "text": [
      "Internal Relative Ascendency = 0.8904953283191506\n"
     ]
    }
   ],
   "source": [
    "#Internal relative ascendency\n",
    "R_ASC_i = ASC_i/DC_i\n",
    "print(\"Internal Relative Ascendency =\", R_ASC_i)"
   ]
  },
  {
   "cell_type": "code",
   "execution_count": 71,
   "id": "5295e7c8",
   "metadata": {},
   "outputs": [
    {
     "name": "stdout",
     "output_type": "stream",
     "text": [
      "Robustness = 0.2636909497435157\n"
     ]
    }
   ],
   "source": [
    "#Robustness\n",
    "Rob = -R_ASC*math.log(R_ASC)\n",
    "print(\"Robustness =\", Rob)"
   ]
  },
  {
   "cell_type": "code",
   "execution_count": 72,
   "id": "827ddd8f",
   "metadata": {},
   "outputs": [
    {
     "name": "stdout",
     "output_type": "stream",
     "text": [
      "Internal Robustness = 0.10327735283638105\n"
     ]
    }
   ],
   "source": [
    "#Internal Robustness\n",
    "Rob_i = -R_ASC_i*math.log(R_ASC_i)\n",
    "print(\"Internal Robustness =\", Rob_i)"
   ]
  },
  {
   "cell_type": "markdown",
   "id": "94c40605",
   "metadata": {},
   "source": [
    "## Food web specific metrics"
   ]
  },
  {
   "cell_type": "code",
   "execution_count": 73,
   "id": "efac2b00",
   "metadata": {},
   "outputs": [
    {
     "name": "stdout",
     "output_type": "stream",
     "text": [
      "Detritivory to herbivory ratio (D:H) = 0.34498620055197793\n"
     ]
    }
   ],
   "source": [
    "#Detritivory to herbivory ratio\n",
    "D_H=30/np.sum(Z)\n",
    "print(\"Detritivory to herbivory ratio (D:H) =\", D_H)"
   ]
  },
  {
   "cell_type": "code",
   "execution_count": 74,
   "id": "0c0040a7",
   "metadata": {},
   "outputs": [
    {
     "name": "stdout",
     "output_type": "stream",
     "text": [
      "mixed trophic impacts = [0.51 0.51 0.54 0.62 0.49 0.3 ]\n"
     ]
    }
   ],
   "source": [
    "#Mixed trophic impact\n",
    "sFi=np.zeros(n,dtype='float64')\n",
    "for i in range (n):\n",
    "    for j in range (n):\n",
    "        sFi[i]=sFi[i]+F[i,j]\n",
    "sFj=np.zeros(n,dtype='float64')\n",
    "for j in range (n):\n",
    "    for i in range (n):\n",
    "        sFj[j]=sFj[j]+F[i,j]\n",
    "QQ=np.zeros((n,n),dtype='float64')\n",
    "for i in range (n):\n",
    "    for j in range (n):\n",
    "        QQ[i,j]=(F[i,j]/(sFj[j]+0.001)-F[j,i]/(sFi[j]+0.001))\n",
    "#mixed trophic impact\n",
    "#matrix of the net impacts (qij)\n",
    "M=np.zeros((n,n),dtype='float64')\n",
    "M=np.linalg.inv(I-QQ)-I\n",
    "MTI=np.zeros(n,dtype='float64')\n",
    "for i in range (n):\n",
    "    for j in range (n):\n",
    "        if i!=j:\n",
    "             MTI[i]=MTI[i]+M[i,j]**2 \n",
    "    MTI[i]=math.sqrt(MTI[i]) \n",
    "MTI=MTI.flatten()\n",
    "print (\"mixed trophic impacts =\",MTI)"
   ]
  },
  {
   "cell_type": "markdown",
   "id": "5de716eb",
   "metadata": {},
   "source": [
    "### Based on amount of biomass"
   ]
  },
  {
   "cell_type": "code",
   "execution_count": 87,
   "id": "38e2cb49",
   "metadata": {},
   "outputs": [
    {
     "data": {
      "text/plain": [
       "2.7946035117850445"
      ]
     },
     "execution_count": 87,
     "metadata": {},
     "output_type": "execute_result"
    }
   ],
   "source": [
    "#Mean trophic level\n",
    "#Case 1: Stocks=1 for all compartments\n",
    "m=8\n",
    "Num=0.0\n",
    "Denom=0.0\n",
    "MTL=0.0\n",
    "#Trophic levels (TL): 1: virgin from external env. 2: manufacturer 3: service provider 4: consumer 5: open loop recycle 6: recycle 7: redistribute 8: reuse \n",
    "BLi=[np.sum(Z),T_i[0],T_i[1],T_i[2],0,T_i[4],0,0]\n",
    "TLi=[1.0, 2.0, 3.0, 4.0, 5.0, 6.0,7,8]\n",
    "for i in range (m):\n",
    "    Num=Num+BLi[i]*TLi[i]\n",
    "    Denom=Denom+BLi[i]\n",
    "MTL=Num/Denom\n",
    "MTL"
   ]
  },
  {
   "cell_type": "markdown",
   "id": "88019a38",
   "metadata": {},
   "source": [
    "# Modified (New) Metrics"
   ]
  },
  {
   "cell_type": "code",
   "execution_count": 84,
   "id": "de824c65",
   "metadata": {},
   "outputs": [
    {
     "name": "stdout",
     "output_type": "stream",
     "text": [
      "Internal Network Intensity (INI) = 3.9478000000000004\n"
     ]
    }
   ],
   "source": [
    "#Internal Network Intensity (INI)\n",
    "INI = TST_flow / T_i[2]\n",
    "print (\"Internal Network Intensity (INI) =\", INI) "
   ]
  },
  {
   "cell_type": "code",
   "execution_count": 85,
   "id": "6d48a06a",
   "metadata": {},
   "outputs": [
    {
     "name": "stdout",
     "output_type": "stream",
     "text": [
      "Overall Network Intensity (ONI) = 5.687\n"
     ]
    }
   ],
   "source": [
    "#Internal Network Intensity (INI)\n",
    "ONI = TST_put / T_i[2]\n",
    "print (\"Overall Network Intensity (ONI) =\", ONI)"
   ]
  },
  {
   "cell_type": "code",
   "execution_count": 86,
   "id": "eb4b9a41",
   "metadata": {},
   "outputs": [
    {
     "name": "stdout",
     "output_type": "stream",
     "text": [
      "Input Efficiency Indicator (IEFI) = 1.1499540018399266\n"
     ]
    }
   ],
   "source": [
    "#Input Efficiency Indicator\n",
    "IEFI = T_i[2]/TBI\n",
    "print (\"Input Efficiency Indicator (IEFI) =\", IEFI)"
   ]
  },
  {
   "cell_type": "code",
   "execution_count": null,
   "id": "9438de17",
   "metadata": {},
   "outputs": [],
   "source": []
  }
 ],
 "metadata": {
  "kernelspec": {
   "display_name": "Python 3 (ipykernel)",
   "language": "python",
   "name": "python3"
  },
  "language_info": {
   "codemirror_mode": {
    "name": "ipython",
    "version": 3
   },
   "file_extension": ".py",
   "mimetype": "text/x-python",
   "name": "python",
   "nbconvert_exporter": "python",
   "pygments_lexer": "ipython3",
   "version": "3.9.13"
  }
 },
 "nbformat": 4,
 "nbformat_minor": 5
}
