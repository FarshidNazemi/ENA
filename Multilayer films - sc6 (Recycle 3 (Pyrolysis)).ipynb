{
 "cells": [
  {
   "cell_type": "code",
   "execution_count": 54,
   "id": "5d6b18d1",
   "metadata": {},
   "outputs": [],
   "source": [
    "#importing important packages\n",
    "import numpy as np\n",
    "import pandas as pd\n",
    "import math\n",
    "import matplotlib.pyplot as plt\n",
    "import pandas as pd\n",
    "from scipy.special import logsumexp"
   ]
  },
  {
   "cell_type": "code",
   "execution_count": 55,
   "id": "2b23bfcf",
   "metadata": {},
   "outputs": [
    {
     "name": "stdout",
     "output_type": "stream",
     "text": [
      "[[0.   1.   0.   0.   0.   0.   0.   0.06 0.   0.   0.06 0.  ]\n",
      " [0.   0.   1.   0.   0.   0.   0.   0.   0.   0.   0.   0.  ]\n",
      " [0.   0.   0.   1.   0.   0.   0.   0.   0.   0.   0.   0.  ]\n",
      " [0.   0.   0.   0.   0.   0.   1.   0.   0.   0.   0.   0.  ]\n",
      " [0.   0.   0.   0.   0.   0.   0.   0.   0.   0.   0.   0.  ]\n",
      " [0.   0.   0.   0.   0.   0.   0.   0.   0.   0.   0.   0.  ]\n",
      " [0.   0.   0.   0.   0.   0.   0.   0.08 0.   0.   0.18 0.74]\n",
      " [0.   0.   0.   0.   0.   0.   0.   0.   0.   0.   0.14 0.  ]\n",
      " [1.11 0.   0.   0.   0.   0.   0.   0.   0.   0.   0.   0.  ]\n",
      " [0.   0.   0.   0.   0.   0.   0.   0.   0.   0.   0.   0.  ]\n",
      " [0.   0.   0.   0.   0.   0.   0.   0.   0.   0.   0.   0.  ]\n",
      " [0.   0.   0.   0.   0.   0.   0.   0.   0.   0.   0.   0.  ]]\n"
     ]
    }
   ],
   "source": [
    "#Total Flow Matrix\n",
    "R = pd.read_excel(r'/Users/farshidnazemi/Documents/Results.xlsx', sheet_name='Multilayer films',usecols=\"S:AD\", header=134, nrows=12)\n",
    "R = np.array(R)\n",
    "R = np.transpose (R)\n",
    "R = np.float64(R)\n",
    "R = np.transpose(R)\n",
    "print (R)"
   ]
  },
  {
   "cell_type": "code",
   "execution_count": 56,
   "id": "c8a0606c",
   "metadata": {},
   "outputs": [
    {
     "name": "stdout",
     "output_type": "stream",
     "text": [
      "[[0.   1.   0.   0.   0.   0.   0.   0.06]\n",
      " [0.   0.   1.   0.   0.   0.   0.   0.  ]\n",
      " [0.   0.   0.   1.   0.   0.   0.   0.  ]\n",
      " [0.   0.   0.   0.   0.   0.   1.   0.  ]\n",
      " [0.   0.   0.   0.   0.   0.   0.   0.  ]\n",
      " [0.   0.   0.   0.   0.   0.   0.   0.  ]\n",
      " [0.   0.   0.   0.   0.   0.   0.   0.08]\n",
      " [0.   0.   0.   0.   0.   0.   0.   0.  ]]\n"
     ]
    }
   ],
   "source": [
    "#Internal Flow Matrix (F)\n",
    "# Get the dimensions of the matrix\n",
    "rows, cols = R.shape\n",
    "\n",
    "# Specify how many rows and columns to remove\n",
    "rows_to_remove = 4\n",
    "cols_to_remove = 4\n",
    "\n",
    "# Remove the last rows and columns\n",
    "if rows_to_remove > 0 and cols_to_remove > 0:\n",
    "    F = R[:rows - rows_to_remove, :cols - cols_to_remove]\n",
    "print (F)"
   ]
  },
  {
   "cell_type": "code",
   "execution_count": 57,
   "id": "a993d7f4",
   "metadata": {},
   "outputs": [
    {
     "name": "stdout",
     "output_type": "stream",
     "text": [
      "[[0 1 0 0 0 0 0 1]\n",
      " [0 0 1 0 0 0 0 0]\n",
      " [0 0 0 1 0 0 0 0]\n",
      " [0 0 0 0 0 0 1 0]\n",
      " [0 0 0 0 0 0 0 0]\n",
      " [0 0 0 0 0 0 0 0]\n",
      " [0 0 0 0 0 0 0 1]\n",
      " [0 0 0 0 0 0 0 0]]\n"
     ]
    }
   ],
   "source": [
    "#Adjacency matrix (A)\n",
    "# Create a new matrix with 1 for non-zero elements and 0 for zero elements\n",
    "A = (F != 0).astype(int)\n",
    "\n",
    "# Print the resulting matrix\n",
    "print(A)"
   ]
  },
  {
   "cell_type": "code",
   "execution_count": 58,
   "id": "379bec16",
   "metadata": {},
   "outputs": [
    {
     "name": "stdout",
     "output_type": "stream",
     "text": [
      "[1.11 0.   0.   0.   0.   0.   0.   0.  ]\n"
     ]
    }
   ],
   "source": [
    "#virgin input vector (Z)\n",
    "# Get the fourth row from the end and store it in a vector\n",
    "Z = R[-4]\n",
    "Z = Z[:-4]\n",
    "\n",
    "# Print the resulting matrix\n",
    "print(Z)"
   ]
  },
  {
   "cell_type": "code",
   "execution_count": 59,
   "id": "dd48e083",
   "metadata": {},
   "outputs": [
    {
     "name": "stdout",
     "output_type": "stream",
     "text": [
      "[0. 0. 0. 0. 0. 0. 0. 0.]\n"
     ]
    }
   ],
   "source": [
    "#Recovered input vector (P)\n",
    "# Get the fourth row from the end and store it in a vector\n",
    "P = R[-3]\n",
    "P = P[:-4]\n",
    "# Print the resulting matrix\n",
    "print(P)"
   ]
  },
  {
   "cell_type": "code",
   "execution_count": 60,
   "id": "87ebda64",
   "metadata": {},
   "outputs": [
    {
     "name": "stdout",
     "output_type": "stream",
     "text": [
      "[0.06 0.   0.   0.   0.   0.   0.18 0.14]\n"
     ]
    }
   ],
   "source": [
    "#Dissipation vector (Y)\n",
    "# Get the fourth row from the end and store it in a vector\n",
    "Y = R[:,-2]\n",
    "Y = Y[:-4]\n",
    "# Print the resulting matrix\n",
    "print(Y)"
   ]
  },
  {
   "cell_type": "code",
   "execution_count": 61,
   "id": "45028f3c",
   "metadata": {},
   "outputs": [
    {
     "name": "stdout",
     "output_type": "stream",
     "text": [
      "[0.   0.   0.   0.   0.   0.   0.74 0.  ]\n"
     ]
    }
   ],
   "source": [
    "#Export vector (E)\n",
    "# Get the fourth row from the end and store it in a vector\n",
    "E = R[:,-1]\n",
    "E = E[:-4]\n",
    "# Print the resulting matrix\n",
    "print(E)"
   ]
  },
  {
   "cell_type": "markdown",
   "id": "052c51c5",
   "metadata": {},
   "source": [
    "# Structural-based Metrics"
   ]
  },
  {
   "cell_type": "code",
   "execution_count": 62,
   "id": "cd3f3f01",
   "metadata": {},
   "outputs": [
    {
     "name": "stdout",
     "output_type": "stream",
     "text": [
      "number of compartments = 8\n"
     ]
    }
   ],
   "source": [
    "#number of compartments\n",
    "n=len(A)\n",
    "print (\"number of compartments =\", n)"
   ]
  },
  {
   "cell_type": "code",
   "execution_count": 63,
   "id": "c8c9f33e",
   "metadata": {},
   "outputs": [
    {
     "name": "stdout",
     "output_type": "stream",
     "text": [
      "number of links = 6\n"
     ]
    }
   ],
   "source": [
    "#number of links\n",
    "m=0\n",
    "for i in range(len(A)):\n",
    "    for j in range(len(A)):\n",
    "        if A[i,j]==1:\n",
    "            m=m+1   \n",
    "print (\"number of links =\", m)"
   ]
  },
  {
   "cell_type": "code",
   "execution_count": 64,
   "id": "29293476",
   "metadata": {},
   "outputs": [
    {
     "name": "stdout",
     "output_type": "stream",
     "text": [
      "link density = 0.75\n"
     ]
    }
   ],
   "source": [
    "#Link density\n",
    "L_d = m/n\n",
    "print (\"link density =\", L_d)"
   ]
  },
  {
   "cell_type": "code",
   "execution_count": 65,
   "id": "e110191c",
   "metadata": {},
   "outputs": [
    {
     "name": "stdout",
     "output_type": "stream",
     "text": [
      "connectance over direct path = 0.09375\n"
     ]
    }
   ],
   "source": [
    "#connectance over direct path\n",
    "C_d = m/(n**2)\n",
    "print (\"connectance over direct path =\", C_d)"
   ]
  },
  {
   "cell_type": "code",
   "execution_count": 66,
   "id": "558f9380",
   "metadata": {},
   "outputs": [
    {
     "name": "stdout",
     "output_type": "stream",
     "text": [
      "[[1. 1. 1. 1. 0. 0. 1. 2.]\n",
      " [0. 1. 1. 1. 0. 0. 1. 1.]\n",
      " [0. 0. 1. 1. 0. 0. 1. 1.]\n",
      " [0. 0. 0. 1. 0. 0. 1. 1.]\n",
      " [0. 0. 0. 0. 1. 0. 0. 0.]\n",
      " [0. 0. 0. 0. 0. 1. 0. 0.]\n",
      " [0. 0. 0. 0. 0. 0. 1. 1.]\n",
      " [0. 0. 0. 0. 0. 0. 0. 1.]]\n"
     ]
    }
   ],
   "source": [
    "I = np.identity(n,dtype='float64')\n",
    "B = np.linalg.inv(I-A)\n",
    "print(B)"
   ]
  },
  {
   "cell_type": "code",
   "execution_count": 67,
   "id": "b141f1cd",
   "metadata": {},
   "outputs": [
    {
     "name": "stdout",
     "output_type": "stream",
     "text": [
      "total number of direct & indirect paths = 24.0\n"
     ]
    }
   ],
   "source": [
    "#Total number of direct & indirect paths\n",
    "m_t=0\n",
    "for i in range(len(B)):\n",
    "    for j in range(len(B)):\n",
    "        if B[i,j]!=0:\n",
    "            m_t = m_t + B[i,j] \n",
    "print (\"total number of direct & indirect paths =\", m_t)"
   ]
  },
  {
   "cell_type": "code",
   "execution_count": 68,
   "id": "bb512601",
   "metadata": {},
   "outputs": [
    {
     "name": "stdout",
     "output_type": "stream",
     "text": [
      "connectance over all paths = 0.375\n"
     ]
    }
   ],
   "source": [
    "#Connectance over all paths\n",
    "C_t = m_t / n**2\n",
    "print (\"connectance over all paths =\", C_t)"
   ]
  },
  {
   "cell_type": "code",
   "execution_count": 69,
   "id": "ee543ce5",
   "metadata": {},
   "outputs": [
    {
     "name": "stdout",
     "output_type": "stream",
     "text": [
      "Pathway proliferation rate = 0.0\n"
     ]
    }
   ],
   "source": [
    "#pathway proliferation rate\n",
    "#Find the maximum eigenvalue using NumPy\n",
    "eigenvalues, eigenvectors = np.linalg.eig(A)\n",
    "# The eigenvalues array contains the eigenvalues of the matrix\n",
    "PP = np.max(eigenvalues)\n",
    "print (\"Pathway proliferation rate =\", PP)"
   ]
  },
  {
   "cell_type": "code",
   "execution_count": 70,
   "id": "38065958",
   "metadata": {},
   "outputs": [
    {
     "name": "stdout",
     "output_type": "stream",
     "text": [
      "degree diversity = 2.251629167254116\n"
     ]
    }
   ],
   "source": [
    "#Degree diversity\n",
    "D = np.sum(A, axis=0)\n",
    "D_dot = np.sum (D)\n",
    "DD = 0\n",
    "epsilon = 1e-10  # A very small number\n",
    "for i in range(n):\n",
    "    DD += -((D[i] / (D_dot + epsilon)) * (math.log((D[i] + epsilon) / (D_dot + epsilon), 2)))\n",
    "print (\"degree diversity =\", DD)"
   ]
  },
  {
   "cell_type": "markdown",
   "id": "9c15b1ed",
   "metadata": {},
   "source": [
    "# Flow-based Metrics"
   ]
  },
  {
   "cell_type": "code",
   "execution_count": 71,
   "id": "2b010e88",
   "metadata": {},
   "outputs": [
    {
     "name": "stdout",
     "output_type": "stream",
     "text": [
      "Total Boundary Input = 1.111\n"
     ]
    }
   ],
   "source": [
    "#Total boundary input\n",
    "TBI = np.sum(Z) + np.sum(P)\n",
    "print(\"Total Boundary Input =\", TBI)"
   ]
  },
  {
   "cell_type": "code",
   "execution_count": 72,
   "id": "a1d48507",
   "metadata": {},
   "outputs": [
    {
     "name": "stdout",
     "output_type": "stream",
     "text": [
      "Total Internal Flow = 4.136\n"
     ]
    }
   ],
   "source": [
    "#Total Internal Flow\n",
    "TIF = np.sum(F)\n",
    "print(\"Total Internal Flow =\", TIF)"
   ]
  },
  {
   "cell_type": "code",
   "execution_count": 73,
   "id": "4e803a91",
   "metadata": {},
   "outputs": [
    {
     "name": "stdout",
     "output_type": "stream",
     "text": [
      "Total Input (Output) Throughflows = [1.11 1.   1.   1.   0.   0.   1.   0.14]\n"
     ]
    }
   ],
   "source": [
    "#Total Input (Output) Throughflows\n",
    "T_i = np.sum(F, axis=0) + Z + P\n",
    "print(\"Total Input (Output) Throughflows =\", T_i)"
   ]
  },
  {
   "cell_type": "code",
   "execution_count": 74,
   "id": "7d13dba6",
   "metadata": {},
   "outputs": [
    {
     "name": "stdout",
     "output_type": "stream",
     "text": [
      "Non-dimensional flow intensities (G) =\n",
      "[[0.   1.   0.   0.   0.   0.   0.   0.41]\n",
      " [0.   0.   1.   0.   0.   0.   0.   0.  ]\n",
      " [0.   0.   0.   1.   0.   0.   0.   0.  ]\n",
      " [0.   0.   0.   0.   0.   0.   1.   0.  ]\n",
      " [0.   0.   0.   0.   0.   0.   0.   0.  ]\n",
      " [0.   0.   0.   0.   0.   0.   0.   0.  ]\n",
      " [0.   0.   0.   0.   0.   0.   0.   0.59]\n",
      " [0.   0.   0.   0.   0.   0.   0.   0.  ]]\n"
     ]
    }
   ],
   "source": [
    "#Flow Analysis (identifies non-dimentional flow intensities along indirect pathways)\n",
    "epsilon = 1e-10\n",
    "G = F/(T_i + epsilon)\n",
    "\n",
    "# Configure printing options for NumPy\n",
    "np.set_printoptions(precision=2, suppress=True)\n",
    "# Print the matrix in an organized way\n",
    "print(\"Non-dimensional flow intensities (G) =\")\n",
    "print(G)"
   ]
  },
  {
   "cell_type": "code",
   "execution_count": 75,
   "id": "d63a27c8",
   "metadata": {},
   "outputs": [
    {
     "name": "stdout",
     "output_type": "stream",
     "text": [
      "Dimentionless Integral intensities matrix (N) =\n",
      "[[1.   1.   1.   1.   0.   0.   1.   1.  ]\n",
      " [0.   1.   1.   1.   0.   0.   1.   0.59]\n",
      " [0.   0.   1.   1.   0.   0.   1.   0.59]\n",
      " [0.   0.   0.   1.   0.   0.   1.   0.59]\n",
      " [0.   0.   0.   0.   1.   0.   0.   0.  ]\n",
      " [0.   0.   0.   0.   0.   1.   0.   0.  ]\n",
      " [0.   0.   0.   0.   0.   0.   1.   0.59]\n",
      " [0.   0.   0.   0.   0.   0.   0.   1.  ]]\n"
     ]
    }
   ],
   "source": [
    "#Dimentionless Integral intensities matrix\n",
    "I=np.identity(n,dtype='float64')\n",
    "N=np.linalg.inv(I-G)\n",
    "# Configure printing options for NumPy\n",
    "np.set_printoptions(precision=2, suppress=True)\n",
    "# Print the matrix in an organized way\n",
    "print(\"Dimentionless Integral intensities matrix (N) =\")\n",
    "print(N)"
   ]
  },
  {
   "cell_type": "code",
   "execution_count": 76,
   "id": "707fe8cb",
   "metadata": {},
   "outputs": [
    {
     "name": "stdout",
     "output_type": "stream",
     "text": [
      "Utility Intensities (D) =\n",
      "[[ 0.   -0.9   0.    0.    0.    0.    0.   -0.05]\n",
      " [ 1.    0.   -1.    0.    0.    0.    0.    0.  ]\n",
      " [ 0.    1.    0.   -1.    0.    0.    0.    0.  ]\n",
      " [ 0.    0.    1.    0.    0.    0.   -1.    0.  ]\n",
      " [ 0.    0.    0.    0.    0.    0.    0.    0.  ]\n",
      " [ 0.    0.    0.    0.    0.    0.    0.    0.  ]\n",
      " [ 0.    0.    0.    1.    0.    0.    0.   -0.08]\n",
      " [ 0.41  0.    0.    0.    0.    0.    0.59  0.  ]]\n"
     ]
    }
   ],
   "source": [
    "#Utility Analysis\n",
    "D=np.zeros((n,n),dtype='float64')\n",
    "for i in range (n):\n",
    "    for j in range (n):\n",
    "        D[i,j]=(F[j,i]-F[i,j])/(T_i[i]+epsilon)\n",
    "\n",
    "# Configure printing options for NumPy\n",
    "np.set_printoptions(precision=2, suppress=True)\n",
    "# Print the matrix in an organized way\n",
    "print(\"Utility Intensities (D) =\")\n",
    "print(D)"
   ]
  },
  {
   "cell_type": "code",
   "execution_count": 77,
   "id": "63618e0e",
   "metadata": {},
   "outputs": [
    {
     "name": "stdout",
     "output_type": "stream",
     "text": [
      "Integral Utility Intensities (U) =\n",
      "[[ 0.64 -0.35  0.22 -0.12  0.    0.    0.1  -0.04]\n",
      " [ 0.39  0.39 -0.26  0.13  0.    0.   -0.13 -0.01]\n",
      " [ 0.25  0.26  0.49 -0.25  0.    0.    0.23 -0.03]\n",
      " [ 0.14  0.13  0.25  0.38  0.    0.   -0.37  0.02]\n",
      " [ 0.    0.    0.    0.    1.    0.    0.    0.  ]\n",
      " [ 0.    0.    0.    0.    0.    1.    0.    0.  ]\n",
      " [ 0.11  0.13  0.23  0.37  0.    0.    0.6  -0.05]\n",
      " [ 0.33 -0.06  0.23  0.17  0.    0.    0.39  0.95]]\n"
     ]
    }
   ],
   "source": [
    "#Utility Intensities\n",
    "U=np.linalg.inv(I-D)\n",
    "# Configure printing options for NumPy\n",
    "np.set_printoptions(precision=2, suppress=True)\n",
    "# Print the matrix in an organized way\n",
    "print(\"Integral Utility Intensities (U) =\")\n",
    "print(U)"
   ]
  },
  {
   "cell_type": "code",
   "execution_count": 78,
   "id": "e00e079b",
   "metadata": {},
   "outputs": [
    {
     "name": "stdout",
     "output_type": "stream",
     "text": [
      "Total System Throughflows (TST_flow) = 4.136\n"
     ]
    }
   ],
   "source": [
    "#Total System Throughflow\n",
    "TST_flow = np.sum(F)\n",
    "print(\"Total System Throughflows (TST_flow) =\", TST_flow)"
   ]
  },
  {
   "cell_type": "code",
   "execution_count": 79,
   "id": "f4e1c750",
   "metadata": {},
   "outputs": [
    {
     "name": "stdout",
     "output_type": "stream",
     "text": [
      "Total System Throughput (TST_put) = 6.359\n"
     ]
    }
   ],
   "source": [
    "#Total System Throughput\n",
    "TST_put = np.sum(R)\n",
    "print(\"Total System Throughput (TST_put) =\", TST_put)"
   ]
  },
  {
   "cell_type": "code",
   "execution_count": 80,
   "id": "d8845e0d",
   "metadata": {},
   "outputs": [
    {
     "name": "stdout",
     "output_type": "stream",
     "text": [
      "Average Path Length (APL) = 3.72277227689264\n"
     ]
    }
   ],
   "source": [
    "#Average Path Length\n",
    "APL = TST_flow/(np.sum(Z)+epsilon)\n",
    "print(\"Average Path Length (APL) =\", APL)"
   ]
  },
  {
   "cell_type": "code",
   "execution_count": 28,
   "id": "e5aff36f",
   "metadata": {},
   "outputs": [
    {
     "name": "stdout",
     "output_type": "stream",
     "text": [
      "Ratio of direct to indirect flows (I/D) = 1.528046421385089\n"
     ]
    }
   ],
   "source": [
    "#Ratio of direct to indirect flows (I/D)\n",
    "I_D = np.sum((N-I-G)@T_i)/np.sum(G@T_i)\n",
    "print(\"Ratio of direct to indirect flows (I/D) =\", I_D)"
   ]
  },
  {
   "cell_type": "code",
   "execution_count": 29,
   "id": "644a89f3",
   "metadata": {},
   "outputs": [
    {
     "name": "stdout",
     "output_type": "stream",
     "text": [
      "Indirect effect index (IEI) = 0.6044376434147475\n"
     ]
    }
   ],
   "source": [
    "#Indirect effects Index\n",
    "IEI = I_D/(1+I_D)\n",
    "print(\"Indirect effect index (IEI) =\", IEI)"
   ]
  },
  {
   "cell_type": "code",
   "execution_count": 30,
   "id": "15cb9408",
   "metadata": {},
   "outputs": [
    {
     "name": "stdout",
     "output_type": "stream",
     "text": [
      "Finn's cycling index (FCI) = 0.0\n"
     ]
    }
   ],
   "source": [
    "#Finn's cycling index\n",
    "#Cycled flow of node i: TSTci\n",
    "TSTci=np.zeros((n),dtype='float64')\n",
    "FCI=0.0\n",
    "for i in range (n):\n",
    "    TSTci[i]=((N[i,i]-1)/N[i,i])*T_i[i]\n",
    "for i in range (n):\n",
    "    FCI=FCI+TSTci[i]/TST_flow\n",
    "print(\"Finn's cycling index (FCI) =\", FCI)"
   ]
  },
  {
   "cell_type": "code",
   "execution_count": 31,
   "id": "66dc6359",
   "metadata": {},
   "outputs": [
    {
     "name": "stdout",
     "output_type": "stream",
     "text": [
      "Amplification = 0\n"
     ]
    }
   ],
   "source": [
    "#Amplification\n",
    "AMP = 0\n",
    "# Iterate through the matrix and count elements larger than 1\n",
    "for row in N:\n",
    "    for element in row:\n",
    "        if element > 1:\n",
    "            AMP += 1\n",
    "\n",
    "print(\"Amplification =\", AMP)"
   ]
  },
  {
   "cell_type": "code",
   "execution_count": 32,
   "id": "f7284ec4",
   "metadata": {},
   "outputs": [
    {
     "name": "stdout",
     "output_type": "stream",
     "text": [
      "Amplification percentage = 0.0\n"
     ]
    }
   ],
   "source": [
    "#Amplification percentage\n",
    "AMP_per = AMP/(n*(n-1))\n",
    "print(\"Amplification percentage =\", AMP_per)"
   ]
  },
  {
   "cell_type": "markdown",
   "id": "57b4aa66",
   "metadata": {},
   "source": [
    "## Utility Analysis "
   ]
  },
  {
   "cell_type": "code",
   "execution_count": 33,
   "id": "507396dc",
   "metadata": {},
   "outputs": [
    {
     "name": "stdout",
     "output_type": "stream",
     "text": [
      "Product Manufacturer (1) <-> Service Provider (2): Exploitation\n",
      "Product Manufacturer (1) <-> User/Consumer (3): Mutualism\n",
      "Product Manufacturer (1) <-> Collection (EoL) (4): Exploitation\n",
      "Product Manufacturer (1) <-> Reuse (5): No Relationship\n",
      "Product Manufacturer (1) <-> Redistribute (EoL) (6): No Relationship\n",
      "Product Manufacturer (1) <-> Refurbish/Recycle (EoL) (7): Mutualism\n",
      "Product Manufacturer (1) <-> Ultimate EoL (8): Exploitation\n",
      "Service Provider (2) <-> User/Consumer (3): Exploitation\n",
      "Service Provider (2) <-> Collection (EoL) (4): Mutualism\n",
      "Service Provider (2) <-> Reuse (5): No Relationship\n",
      "Service Provider (2) <-> Redistribute (EoL) (6): No Relationship\n",
      "Service Provider (2) <-> Refurbish/Recycle (EoL) (7): Exploitation\n",
      "Service Provider (2) <-> Ultimate EoL (8): Competition\n",
      "User/Consumer (3) <-> Collection (EoL) (4): Exploitation\n",
      "User/Consumer (3) <-> Reuse (5): No Relationship\n",
      "User/Consumer (3) <-> Redistribute (EoL) (6): No Relationship\n",
      "User/Consumer (3) <-> Refurbish/Recycle (EoL) (7): Mutualism\n",
      "User/Consumer (3) <-> Ultimate EoL (8): Exploitation\n",
      "Collection (EoL) (4) <-> Reuse (5): No Relationship\n",
      "Collection (EoL) (4) <-> Redistribute (EoL) (6): No Relationship\n",
      "Collection (EoL) (4) <-> Refurbish/Recycle (EoL) (7): Exploitation\n",
      "Collection (EoL) (4) <-> Ultimate EoL (8): Mutualism\n",
      "Reuse (5) <-> Redistribute (EoL) (6): No Relationship\n",
      "Reuse (5) <-> Refurbish/Recycle (EoL) (7): No Relationship\n",
      "Reuse (5) <-> Ultimate EoL (8): No Relationship\n",
      "Redistribute (EoL) (6) <-> Refurbish/Recycle (EoL) (7): No Relationship\n",
      "Redistribute (EoL) (6) <-> Ultimate EoL (8): No Relationship\n",
      "Refurbish/Recycle (EoL) (7) <-> Ultimate EoL (8): Exploitation\n"
     ]
    }
   ],
   "source": [
    "#Network relationships\n",
    "m = U.shape[0]\n",
    "# Create a dictionary to store the relationships\n",
    "relationships = {}\n",
    "\n",
    "# Process descriptions\n",
    "process_descriptions = {\n",
    "    0: \"Product Manufacturer (1)\",\n",
    "    1: \"Service Provider (2)\",\n",
    "    2: \"User/Consumer (3)\",\n",
    "    3: \"Collection (EoL) (4)\",\n",
    "    4: \"Reuse (5)\",\n",
    "    5: \"Redistribute (EoL) (6)\",\n",
    "    6: \"Refurbish/Recycle (EoL) (7)\",\n",
    "    7: \"Ultimate EoL (8)\"\n",
    "    \n",
    "}\n",
    "\n",
    "# Iterate through each pair of processes\n",
    "for i in range(m):\n",
    "    for j in range(i+1, m):\n",
    "        Uij = U[i, j]\n",
    "        Uji = U[j, i]\n",
    "\n",
    "        if Uij == 0 and Uji == 0:\n",
    "            relationship = \"No Relationship\"\n",
    "        elif Uij > 0 and Uji > 0:\n",
    "            relationship = \"Mutualism\"\n",
    "        elif Uij < 0 and Uji < 0:\n",
    "            relationship = \"Competition\"\n",
    "        else:\n",
    "            relationship = \"Exploitation\"\n",
    "\n",
    "        process_i = process_descriptions[i]\n",
    "        process_j = process_descriptions[j]\n",
    "\n",
    "        relationships[f\"{process_i} <-> {process_j}\"] = relationship\n",
    "\n",
    "# Print the relationships\n",
    "for process_pair, relationship in relationships.items():\n",
    "    print(f\"{process_pair}: {relationship}\")"
   ]
  },
  {
   "cell_type": "code",
   "execution_count": 34,
   "id": "b5503c9e",
   "metadata": {},
   "outputs": [
    {
     "name": "stdout",
     "output_type": "stream",
     "text": [
      "Network Synergism: 5.656757182300976\n"
     ]
    }
   ],
   "source": [
    "#synergism \n",
    "# Calculate the ratio of the sum of positive entries over the sum of negative entries\n",
    "positive_sum = np.sum(U[U > 0])\n",
    "negative_sum = np.sum(U[U < 0])\n",
    "\n",
    "# Avoid division by zero if there are no negative values\n",
    "if negative_sum != 0:\n",
    "    syn = positive_sum / abs(negative_sum)\n",
    "else:\n",
    "    syn = \"Undefined (no negative entries)\"\n",
    "\n",
    "print(\"Network Synergism:\", syn)"
   ]
  },
  {
   "cell_type": "code",
   "execution_count": 35,
   "id": "96346a80",
   "metadata": {},
   "outputs": [
    {
     "name": "stdout",
     "output_type": "stream",
     "text": [
      "Network mutualism: 2.4545454545454546\n"
     ]
    }
   ],
   "source": [
    "#mutualism\n",
    "# Calculate the ratio of the number of positive entries over the number of negative entries\n",
    "positive_count = np.sum(U > 0)\n",
    "negative_count = np.sum(U < 0)\n",
    "\n",
    "# Avoid division by zero if there are no negative values\n",
    "if negative_count != 0:\n",
    "    mut = positive_count / negative_count\n",
    "else:\n",
    "    mut = \"Undefined (no negative entries)\"\n",
    "\n",
    "# Print the ratio\n",
    "print(\"Network mutualism:\", mut)"
   ]
  },
  {
   "cell_type": "code",
   "execution_count": 36,
   "id": "8a313037",
   "metadata": {},
   "outputs": [
    {
     "name": "stdout",
     "output_type": "stream",
     "text": [
      "Network Homogenization: 2.3819179813553895\n"
     ]
    }
   ],
   "source": [
    "#homogenization\n",
    "\n",
    "# Function to calculate the coefficient of variation (CV)\n",
    "def coefficient_of_variation(matrix):\n",
    "    mean = np.mean(matrix)\n",
    "    std_dev = np.std(matrix)\n",
    "    \n",
    "    if mean != 0:\n",
    "        cv = std_dev / mean\n",
    "    else:\n",
    "        cv = \"Undefined (mean is zero)\"\n",
    "    \n",
    "    return cv\n",
    "\n",
    "# Calculate the CV for matrices G and N\n",
    "cv_G = coefficient_of_variation(G)\n",
    "cv_N = coefficient_of_variation(N)\n",
    "\n",
    "# Calculate the ratio of CV(G) over CV(N)\n",
    "if cv_N != 0:\n",
    "    hom = cv_G / cv_N\n",
    "else:\n",
    "    hom = \"Undefined (CV(N) is zero)\"\n",
    "\n",
    "# Print the ratio\n",
    "print(\"Network Homogenization:\", hom)"
   ]
  },
  {
   "cell_type": "code",
   "execution_count": 37,
   "id": "1b4cf3ab",
   "metadata": {},
   "outputs": [
    {
     "name": "stdout",
     "output_type": "stream",
     "text": [
      "Flow Diversity: 2.6522804245872735\n"
     ]
    }
   ],
   "source": [
    "#Throughflow diversity\n",
    "FD = 0\n",
    "epsilon = 1e-10  # A very small number\n",
    "for i in range(n):\n",
    "    FD += -((T_i[i] / (TST_flow + epsilon)) * (math.log((T_i[i] + epsilon) / (TST_flow + epsilon), 2)))\n",
    "print(\"Flow Diversity:\", FD)"
   ]
  },
  {
   "cell_type": "markdown",
   "id": "8140fc00",
   "metadata": {},
   "source": [
    "## Information Theory "
   ]
  },
  {
   "cell_type": "code",
   "execution_count": 38,
   "id": "5f5b9cf7",
   "metadata": {},
   "outputs": [
    {
     "name": "stdout",
     "output_type": "stream",
     "text": [
      "Development Capacity = 18.717653468650393\n"
     ]
    }
   ],
   "source": [
    "#Development capacity\n",
    "DC = 0.0\n",
    "\n",
    "for i in range(len(R)):\n",
    "    for j in range(len(R)):\n",
    "        if i != j:\n",
    "            DC += -(R[i, j] * np.log2(R[i, j] / TST_put + epsilon))\n",
    "\n",
    "# Print the ascendancy\n",
    "print(\"Development Capacity =\", DC)"
   ]
  },
  {
   "cell_type": "code",
   "execution_count": 39,
   "id": "bed24241",
   "metadata": {},
   "outputs": [
    {
     "name": "stdout",
     "output_type": "stream",
     "text": [
      "Ascendency = 16.35146930821559\n"
     ]
    }
   ],
   "source": [
    "#Ascendency\n",
    "ASC = 0.0\n",
    "for i in range(len(R)):\n",
    "    for j in range(len(R)):\n",
    "        if i != j:\n",
    "            numerator = R[i, j]\n",
    "            denominator = np.sum(R[i, :]+ epsilon) * (np.sum(R[:, j]) + epsilon)\n",
    "            ASC += numerator * np.log2(((numerator*TST_put) /denominator)+epsilon)\n",
    "# Print the ascendancy\n",
    "print(\"Ascendency =\", ASC)"
   ]
  },
  {
   "cell_type": "code",
   "execution_count": 40,
   "id": "9a9df1d0",
   "metadata": {},
   "outputs": [
    {
     "name": "stdout",
     "output_type": "stream",
     "text": [
      "Redundancy = 2.366184167739707\n"
     ]
    }
   ],
   "source": [
    "#Redundancy\n",
    "PHI = 0.0\n",
    "for i in range(len(R)):\n",
    "    for j in range(len(R)):\n",
    "        if i != j:\n",
    "            numerator = R[i, j]\n",
    "            denominator = np.sum(R[i, :]+ epsilon) * (np.sum(R[:, j]) + epsilon)\n",
    "            PHI += -numerator * np.log2(((numerator**2) /denominator)+epsilon)\n",
    "\n",
    "# Print the ascendancy\n",
    "print(\"Redundancy =\", PHI)"
   ]
  },
  {
   "cell_type": "code",
   "execution_count": 41,
   "id": "9b63fb01",
   "metadata": {},
   "outputs": [
    {
     "name": "stdout",
     "output_type": "stream",
     "text": [
      "Relative Ascendency = 0.8735854275538412\n"
     ]
    }
   ],
   "source": [
    "#Ratio of ascendency to development capacity\n",
    "R_ASC = ASC/DC\n",
    "print(\"Relative Ascendency =\", R_ASC)"
   ]
  },
  {
   "cell_type": "code",
   "execution_count": 42,
   "id": "7af01b6c",
   "metadata": {},
   "outputs": [
    {
     "name": "stdout",
     "output_type": "stream",
     "text": [
      "Internal Development Capacity = 11.562536956910916\n"
     ]
    }
   ],
   "source": [
    "#Internal Development capacity\n",
    "DC_i = 0.0\n",
    "for i in range(len(F)):\n",
    "    for j in range(len(F)):\n",
    "        if i != j:\n",
    "            DC_i += -(F[i, j] * np.log2(F[i, j] / TST_put + epsilon))\n",
    "\n",
    "# Print the ascendancy\n",
    "print(\"Internal Development Capacity =\", DC_i)"
   ]
  },
  {
   "cell_type": "code",
   "execution_count": 43,
   "id": "9eba9d4f",
   "metadata": {},
   "outputs": [
    {
     "name": "stdout",
     "output_type": "stream",
     "text": [
      "Internal Ascendency = 11.113724103089728\n"
     ]
    }
   ],
   "source": [
    "#Internal ascendency\n",
    "ASC_i = 0.0\n",
    "for i in range(len(F)):\n",
    "    for j in range(len(F)):\n",
    "        if i != j:\n",
    "            numerator = F[i, j]\n",
    "            denominator = np.sum(F[i, :]+ epsilon) * (np.sum(F[:, j]) + epsilon)\n",
    "            ASC_i += numerator * np.log2(((numerator*TST_put) /denominator)+epsilon)\n",
    "# Print the ascendancy\n",
    "print(\"Internal Ascendency =\", ASC_i)"
   ]
  },
  {
   "cell_type": "code",
   "execution_count": 44,
   "id": "120fff6e",
   "metadata": {},
   "outputs": [
    {
     "name": "stdout",
     "output_type": "stream",
     "text": [
      "Internal Redundancy = 0.4488128584464061\n"
     ]
    }
   ],
   "source": [
    "#Internal Redundancy\n",
    "PHI_i = 0.0\n",
    "for i in range(len(F)):\n",
    "    for j in range(len(F)):\n",
    "        if i != j:\n",
    "            numerator = F[i, j]\n",
    "            denominator = np.sum(F[i, :]+ epsilon) * (np.sum(F[:, j]) + epsilon)\n",
    "            PHI_i += -numerator * np.log2(((numerator**2) /denominator)+epsilon)\n",
    "\n",
    "# Print the ascendancy\n",
    "print(\"Internal Redundancy =\", PHI_i)"
   ]
  },
  {
   "cell_type": "code",
   "execution_count": 45,
   "id": "1bd36dd8",
   "metadata": {},
   "outputs": [
    {
     "name": "stdout",
     "output_type": "stream",
     "text": [
      "Internal Relative Ascendency = 0.9611838772499721\n"
     ]
    }
   ],
   "source": [
    "#Internal relative ascendency\n",
    "R_ASC_i = ASC_i/DC_i\n",
    "print(\"Internal Relative Ascendency =\", R_ASC_i)"
   ]
  },
  {
   "cell_type": "code",
   "execution_count": 46,
   "id": "d9040c68",
   "metadata": {},
   "outputs": [
    {
     "name": "stdout",
     "output_type": "stream",
     "text": [
      "Robustness = 0.11806450710997257\n"
     ]
    }
   ],
   "source": [
    "#Robustness\n",
    "Rob = -R_ASC*math.log(R_ASC)\n",
    "print(\"Robustness =\", Rob)"
   ]
  },
  {
   "cell_type": "code",
   "execution_count": 47,
   "id": "eeda3b04",
   "metadata": {},
   "outputs": [
    {
     "name": "stdout",
     "output_type": "stream",
     "text": [
      "Internal Robustness = 0.03805283603802203\n"
     ]
    }
   ],
   "source": [
    "#Internal Robustness\n",
    "Rob_i = -R_ASC_i*math.log(R_ASC_i)\n",
    "print(\"Internal Robustness =\", Rob_i)"
   ]
  },
  {
   "cell_type": "markdown",
   "id": "72027767",
   "metadata": {},
   "source": [
    "## Food web specific metrics"
   ]
  },
  {
   "cell_type": "code",
   "execution_count": 48,
   "id": "8822510f",
   "metadata": {},
   "outputs": [
    {
     "name": "stdout",
     "output_type": "stream",
     "text": [
      "Detritivory to herbivory ratio (D:H) = 0.6660666066606661\n"
     ]
    }
   ],
   "source": [
    "#Detritivory to herbivory ratio\n",
    "#open loop recovery:\n",
    "openr=np.sum(P)+np.sum(E)\n",
    "#closed loop recovery\"\n",
    "closer=F[6,0]+F[5,1]+F[4,2]\n",
    "D_H = (openr+closer)/np.sum(Z)\n",
    "print(\"Detritivory to herbivory ratio (D:H) =\", D_H)"
   ]
  },
  {
   "cell_type": "code",
   "execution_count": 49,
   "id": "f10d8fde",
   "metadata": {},
   "outputs": [
    {
     "name": "stdout",
     "output_type": "stream",
     "text": [
      "mixed trophic impacts = [0.55 0.49 0.5  0.47 0.   0.   0.45 0.55]\n"
     ]
    }
   ],
   "source": [
    "#Mixed trophic impact\n",
    "sFi=np.zeros(n,dtype='float64')\n",
    "for i in range (n):\n",
    "    for j in range (n):\n",
    "        sFi[i]=sFi[i]+F[i,j]\n",
    "sFj=np.zeros(n,dtype='float64')\n",
    "for j in range (n):\n",
    "    for i in range (n):\n",
    "        sFj[j]=sFj[j]+F[i,j]\n",
    "QQ=np.zeros((n,n),dtype='float64')\n",
    "for i in range (n):\n",
    "    for j in range (n):\n",
    "        QQ[i,j]=(F[i,j]/(sFj[j]+0.001)-F[j,i]/(sFi[j]+0.001))\n",
    "#mixed trophic impact\n",
    "#matrix of the net impacts (qij)\n",
    "M=np.zeros((n,n),dtype='float64')\n",
    "M=np.linalg.inv(I-QQ)-I\n",
    "MTI=np.zeros(n,dtype='float64')\n",
    "for i in range (n):\n",
    "    for j in range (n):\n",
    "        if i!=j:\n",
    "             MTI[i]=MTI[i]+M[i,j]**2 \n",
    "    MTI[i]=math.sqrt(MTI[i]) \n",
    "MTI=MTI.flatten()\n",
    "print (\"mixed trophic impacts =\",MTI)"
   ]
  },
  {
   "cell_type": "markdown",
   "id": "d34f822b",
   "metadata": {},
   "source": [
    "### Based on amount of biomass"
   ]
  },
  {
   "cell_type": "code",
   "execution_count": 50,
   "id": "16b73029",
   "metadata": {},
   "outputs": [
    {
     "data": {
      "text/plain": [
       "3.3601140556860116"
      ]
     },
     "execution_count": 50,
     "metadata": {},
     "output_type": "execute_result"
    }
   ],
   "source": [
    "#Mean trophic level\n",
    "#Case 1: Stocks=1 for all compartments\n",
    "m=8\n",
    "Num=0.0\n",
    "Denom=0.0\n",
    "MTL=0.0\n",
    "#Trophic levels (TL): 1: virgin from external env. 2: manufacturer 3: service provider 4: consumer 5: open loop recycle 6: recycle 7: redistribute 8: reuse \n",
    "BLi=[np.sum(Z),T_i[0],T_i[1],T_i[2],np.sum(E),T_i[6],T_i[5],T_i[4]]\n",
    "TLi=[1.0, 2.0, 3.0, 4.0, 5.0, 6.0,7,8]\n",
    "for i in range (m):\n",
    "    Num=Num+BLi[i]*TLi[i]\n",
    "    Denom=Denom+BLi[i]\n",
    "MTL=Num/Denom\n",
    "MTL"
   ]
  },
  {
   "cell_type": "markdown",
   "id": "b2e99b09",
   "metadata": {},
   "source": [
    "# Modified (New) Metrics"
   ]
  },
  {
   "cell_type": "code",
   "execution_count": 51,
   "id": "ab18586b",
   "metadata": {},
   "outputs": [
    {
     "name": "stdout",
     "output_type": "stream",
     "text": [
      "Internal Network Intensity (INI) = 4.136\n"
     ]
    }
   ],
   "source": [
    "#Internal Network Intensity (INI)\n",
    "INI = TST_flow / T_i[2]\n",
    "print (\"Internal Network Intensity (INI) =\", INI)"
   ]
  },
  {
   "cell_type": "code",
   "execution_count": 52,
   "id": "43ee0bc9",
   "metadata": {},
   "outputs": [
    {
     "name": "stdout",
     "output_type": "stream",
     "text": [
      "Overall Network Intensity (ONI) = 6.359\n"
     ]
    }
   ],
   "source": [
    "#Overall Network Intensity (INI)\n",
    "ONI = TST_put / T_i[2]\n",
    "print (\"Overall Network Intensity (ONI) =\", ONI)"
   ]
  },
  {
   "cell_type": "code",
   "execution_count": 53,
   "id": "9485b2e2",
   "metadata": {},
   "outputs": [
    {
     "name": "stdout",
     "output_type": "stream",
     "text": [
      "Input Efficiency Indicator (IEFI) = 0.9000900090009001\n"
     ]
    }
   ],
   "source": [
    "#Input Efficiency Indicator\n",
    "IEFI = T_i[2]/TBI\n",
    "print (\"Input Efficiency Indicator (IEFI) =\", IEFI)"
   ]
  },
  {
   "cell_type": "code",
   "execution_count": null,
   "id": "d941b313",
   "metadata": {},
   "outputs": [],
   "source": []
  }
 ],
 "metadata": {
  "kernelspec": {
   "display_name": "Python 3 (ipykernel)",
   "language": "python",
   "name": "python3"
  },
  "language_info": {
   "codemirror_mode": {
    "name": "ipython",
    "version": 3
   },
   "file_extension": ".py",
   "mimetype": "text/x-python",
   "name": "python",
   "nbconvert_exporter": "python",
   "pygments_lexer": "ipython3",
   "version": "3.9.13"
  }
 },
 "nbformat": 4,
 "nbformat_minor": 5
}
