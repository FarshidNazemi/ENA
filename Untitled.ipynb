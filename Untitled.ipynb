{
 "cells": [
  {
   "cell_type": "code",
   "execution_count": 30,
   "id": "0e83c2f3-7cd6-4c30-a4ff-3007092a0855",
   "metadata": {},
   "outputs": [],
   "source": [
    "#importing important packages\n",
    "import numpy as np\n",
    "import pandas as pd\n",
    "import math\n",
    "import matplotlib.pyplot as plt\n",
    "import pandas as pd\n",
    "from scipy.special import logsumexp\n",
    "import pandas as pd\n",
    "import io\n",
    "import requests"
   ]
  },
  {
   "cell_type": "markdown",
   "id": "101b6d24-3a2a-486e-9c4b-6cf55fa44bf7",
   "metadata": {},
   "source": [
    "# Basecase (Linear Economy)"
   ]
  },
  {
   "cell_type": "code",
   "execution_count": 46,
   "id": "bd74a3de-0a03-43d2-8722-ae79899be301",
   "metadata": {},
   "outputs": [],
   "source": [
    "#GitHub CSV file URL\n",
    "basecase_csv_url = 'https://raw.githubusercontent.com/FarshidNazemi/ENA/main/data/Basecase%20(linear%20Economy).csv'\n",
    "# Read CSV file, skip first two rows, and drop first two columns\n",
    "df_basecase = pd.read_csv(basecase_csv_url, header=None, skiprows=2)\n",
    "df_basecase = df_basecase.iloc[:, 2:]\n",
    "# Building the total flow matrix\n",
    "basecase_total_matrix = df_basecase.to_numpy()\n"
   ]
  },
  {
   "cell_type": "code",
   "execution_count": null,
   "id": "17cf87b9-5af7-4620-9480-f9fe0d22878e",
   "metadata": {},
   "outputs": [],
   "source": []
  }
 ],
 "metadata": {
  "kernelspec": {
   "display_name": "Python 3 (ipykernel)",
   "language": "python",
   "name": "python3"
  },
  "language_info": {
   "codemirror_mode": {
    "name": "ipython",
    "version": 3
   },
   "file_extension": ".py",
   "mimetype": "text/x-python",
   "name": "python",
   "nbconvert_exporter": "python",
   "pygments_lexer": "ipython3",
   "version": "3.9.13"
  }
 },
 "nbformat": 4,
 "nbformat_minor": 5
}
