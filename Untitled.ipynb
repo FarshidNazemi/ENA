{
 "cells": [
  {
   "cell_type": "code",
   "execution_count": 87,
   "id": "0e83c2f3-7cd6-4c30-a4ff-3007092a0855",
   "metadata": {},
   "outputs": [],
   "source": [
    "#importing important packages\n",
    "import numpy as np\n",
    "import pandas as pd\n",
    "import math\n",
    "import matplotlib.pyplot as plt\n",
    "import pandas as pd\n",
    "from scipy.special import logsumexp\n",
    "import pandas as pd\n",
    "import io\n",
    "import requests"
   ]
  },
  {
   "cell_type": "markdown",
   "id": "101b6d24-3a2a-486e-9c4b-6cf55fa44bf7",
   "metadata": {},
   "source": [
    "# Basecase (Linear Economy)"
   ]
  },
  {
   "cell_type": "code",
   "execution_count": 88,
   "id": "bd74a3de-0a03-43d2-8722-ae79899be301",
   "metadata": {},
   "outputs": [],
   "source": [
    "#GitHub CSV file URL\n",
    "basecase_csv_url = 'https://raw.githubusercontent.com/FarshidNazemi/ENA/main/data/Basecase%20(linear%20Economy).csv'\n",
    "# Read CSV file, skip first two rows, and drop first two columns\n",
    "df_basecase = pd.read_csv(basecase_csv_url, header=None, skiprows=2)\n",
    "df_basecase = df_basecase.iloc[:, 2:]"
   ]
  },
  {
   "cell_type": "code",
   "execution_count": 89,
   "id": "1c020473-b416-463c-9814-c8a1cc1d09d2",
   "metadata": {},
   "outputs": [
    {
     "name": "stdout",
     "output_type": "stream",
     "text": [
      "[[0.     1.     0.     0.     0.0555 0.     0.     0.0555 0.    ]\n",
      " [0.     0.     1.     0.     0.     0.     0.     0.     0.    ]\n",
      " [0.     0.     0.     1.     0.     0.     0.     0.     0.    ]\n",
      " [0.     0.     0.     0.     1.     0.     0.     0.     0.    ]\n",
      " [0.     0.     0.     0.     0.     0.     0.     1.0555 0.    ]\n",
      " [1.111  0.     0.     0.     0.     0.     0.     0.     0.    ]\n",
      " [0.     0.     0.     0.     0.     0.     0.     0.     0.    ]\n",
      " [0.     0.     0.     0.     0.     0.     0.     0.     0.    ]\n",
      " [0.     0.     0.     0.     0.     0.     0.     0.     0.    ]]\n"
     ]
    }
   ],
   "source": [
    "# Building the total flow matrix\n",
    "R = df_basecase.to_numpy()\n",
    "print (R)"
   ]
  },
  {
   "cell_type": "code",
   "execution_count": 90,
   "id": "17cf87b9-5af7-4620-9480-f9fe0d22878e",
   "metadata": {},
   "outputs": [
    {
     "name": "stdout",
     "output_type": "stream",
     "text": [
      "[[0.     1.     0.     0.     0.0555]\n",
      " [0.     0.     1.     0.     0.    ]\n",
      " [0.     0.     0.     1.     0.    ]\n",
      " [0.     0.     0.     0.     1.    ]\n",
      " [0.     0.     0.     0.     0.    ]]\n"
     ]
    }
   ],
   "source": [
    "#Internal Flow Matrix (F)\n",
    "\n",
    "# Get the dimensions of the matrix\n",
    "rows, cols = R.shape\n",
    "\n",
    "# Specify how many rows and columns to remove\n",
    "rows_to_remove = 4\n",
    "cols_to_remove = 4\n",
    "\n",
    "# Remove the last rows and columns\n",
    "if rows_to_remove > 0 and cols_to_remove > 0:\n",
    "    F = R[:rows - rows_to_remove, :cols - cols_to_remove]\n",
    "print (F)\n"
   ]
  },
  {
   "cell_type": "code",
   "execution_count": 91,
   "id": "6ef18c37-fbf2-4ad4-b8fb-382a9a8aba1c",
   "metadata": {},
   "outputs": [],
   "source": [
    "#consumer demand (functional unit)\n",
    "FU = F[1,2] #1 metric ton\n",
    "\n",
    "#virgin input vector (Z)\n",
    "# Get the fourth row from the end and store it in a vector\n",
    "Z = R[-4]\n",
    "Z = Z[:-4]\n",
    "\n",
    "#Recovered input vector (P)\n",
    "# Get the fourth row from the end and store it in a vector\n",
    "P = R[-3]\n",
    "P = P[:-4]\n",
    "\n",
    "#Dissipation vector (Y)\n",
    "# Get the fourth row from the end and store it in a vector\n",
    "Y = R[:,-2]\n",
    "Y = Y[:-4]\n",
    "\n",
    "#Export vector (E)\n",
    "# Get the fourth row from the end and store it in a vector\n",
    "E = R[:,-1]\n",
    "E = E[:-4]\n",
    "\n",
    "#number of compartments\n",
    "n=len(F)\n",
    "\n",
    "#Total boundary input\n",
    "TBI = np.sum(Z) + np.sum(P)\n",
    "\n",
    "#Total Input (Output) Throughflows\n",
    "T_i = np.sum(F, axis=0) + Z + P\n",
    "\n",
    "#Flow Analysis (identifies non-dimentional flow intensities along indirect pathways)\n",
    "epsilon = 1e-10\n",
    "G = F/(T_i + epsilon)\n",
    "\n",
    "#Dimentionless Integral intensities matrix\n",
    "I=np.identity(n,dtype='float64')\n",
    "N=np.linalg.inv(I-G)\n",
    "\n",
    "#Development capacity\n",
    "DC = 0.0\n",
    "\n",
    "for i in range(len(R)):\n",
    "    for j in range(len(R)):\n",
    "        if i != j:\n",
    "            DC += -(R[i, j] * np.log2(R[i, j] / np.sum(R) + epsilon))\n",
    "            \n",
    "#Ascendency\n",
    "ASC = 0.0\n",
    "for i in range(len(R)):\n",
    "    for j in range(len(R)):\n",
    "        if i != j:\n",
    "            numerator = R[i, j]\n",
    "            denominator = np.sum(R[i, :]+ epsilon) * (np.sum(R[:, j]) + epsilon)\n",
    "            ASC += numerator * np.log2((numerator*np.sum(R) / denominator) + epsilon)\n",
    "\n",
    "#Redundancy\n",
    "PHI = 0.0\n",
    "for i in range(len(R)):\n",
    "    for j in range(len(R)):\n",
    "        if i != j:\n",
    "            numerator = R[i, j]\n",
    "            denominator = np.sum(R[i, :]+ epsilon) * (np.sum(R[:, j]) + epsilon)\n",
    "            PHI += -numerator * np.log2((numerator**2 / denominator) + epsilon)\n",
    "\n",
    "#Development capacity\n",
    "DC = 0.0\n",
    "for i in range(len(R)):\n",
    "    for j in range(len(R)):\n",
    "        if i != j:\n",
    "            DC += -(R[i, j] * np.log2(R[i, j] / np.sum(R) + epsilon))\n",
    "\n",
    "#Ratio of ascendency to development capacity\n",
    "R_ASC = ASC / DC\n",
    "\n"
   ]
  },
  {
   "cell_type": "code",
   "execution_count": 92,
   "id": "6cc09b8d-d853-40b3-a6ab-c358d72d61f0",
   "metadata": {},
   "outputs": [
    {
     "name": "stdout",
     "output_type": "stream",
     "text": [
      "Total System Throughflows (TST_flow) = 4.0555\n"
     ]
    }
   ],
   "source": [
    "#Total System Throughflow\n",
    "TST_flow = np.sum(F)\n",
    "print(\"Total System Throughflows (TST_flow) =\", TST_flow)"
   ]
  },
  {
   "cell_type": "code",
   "execution_count": 93,
   "id": "3a5f5a01-5b36-459e-9d56-48d67ac37f61",
   "metadata": {},
   "outputs": [
    {
     "name": "stdout",
     "output_type": "stream",
     "text": [
      "Network Intensity (NI) = 4.0555\n"
     ]
    }
   ],
   "source": [
    "#Network Intensity\n",
    "NI = TST_flow/FU\n",
    "print(\"Network Intensity (NI) =\", NI)"
   ]
  },
  {
   "cell_type": "code",
   "execution_count": 94,
   "id": "27eb1390-d5b3-4c82-b70f-2e58d98d7cc6",
   "metadata": {},
   "outputs": [
    {
     "name": "stdout",
     "output_type": "stream",
     "text": [
      "Robustness = 0.196043977287096\n"
     ]
    }
   ],
   "source": [
    "#Robustness\n",
    "ecological_resilience = -R_ASC*math.log(R_ASC)\n",
    "Robustness = ecological_resilience/0.3678\n",
    "print(\"Robustness =\", Robustness)"
   ]
  },
  {
   "cell_type": "code",
   "execution_count": 95,
   "id": "f24e05cf-e64f-4245-a33f-93ce00aa9c60",
   "metadata": {},
   "outputs": [
    {
     "name": "stdout",
     "output_type": "stream",
     "text": [
      "Mean Circularity Level = 0.14285714285714285\n"
     ]
    }
   ],
   "source": [
    "#Mean Circularity Level (MCL)\n",
    "m=8\n",
    "Num=0.0\n",
    "Denom=0.0\n",
    "MTL=0.0\n",
    "#Circularity Levels (CL): 1: Litter 2: Landfill 3: Energy Recovery/Compost 4: Open-loop recovery\n",
    "#5: Refurbish/Recycle 6: Redistribute 7: Reuse 8: Refuse/Rethink\n",
    "BLi=[0, #1: Litter\n",
    "    T_i[4], #2: Landfill\n",
    "     0, #3: Energy Recovery/Compost\n",
    "     0, #4: Open-loop Recovery\n",
    "     0, #5: Refursbish/Recycle\n",
    "     0, #6: Redistribute\n",
    "     0, #7: Reuse\n",
    "     0 #8: Refuse/Rethink\n",
    "    ]\n",
    "CLi=[1.0, 2.0, 3.0, 4.0, 5.0, 6.0, 7.0, 8.0]\n",
    "for i in range (m):\n",
    "    Num=Num+BLi[i]*CLi[i]\n",
    "    Denom=Denom+BLi[i]\n",
    "MCL=Num/Denom\n",
    "MCL=(MCL-1)/(8-1) #Normalizing\n",
    "print (\"Mean Circularity Level =\", MCL)"
   ]
  },
  {
   "cell_type": "code",
   "execution_count": 96,
   "id": "782223e2-6596-46ba-9455-593e0eceeec2",
   "metadata": {},
   "outputs": [
    {
     "name": "stdout",
     "output_type": "stream",
     "text": [
      "Loop Tightness = 0.0\n"
     ]
    }
   ],
   "source": [
    "#Loop Tightness\n",
    "FU_c=(N[2,2]-1)/(N[2,2]+epsilon)*T_i[2]\n",
    "LT=FU_c/FU\n",
    "print (\"Loop Tightness =\", LT)"
   ]
  },
  {
   "cell_type": "code",
   "execution_count": 98,
   "id": "ab6f3849-59f3-47d5-a647-02e92a24fcaf",
   "metadata": {},
   "outputs": [
    {
     "name": "stdout",
     "output_type": "stream",
     "text": [
      "Detritivory to herbivory ratio (D:H) = 0\n"
     ]
    }
   ],
   "source": [
    "#Detritivory to herbivory ratio\n",
    "D_H = 0 #no recovery\n",
    "print(\"Detritivory to herbivory ratio (D:H) =\", D_H)"
   ]
  },
  {
   "cell_type": "code",
   "execution_count": 100,
   "id": "ee6f6fa2-c9c9-4d9f-9b6c-a0d749c534e5",
   "metadata": {},
   "outputs": [
    {
     "name": "stdout",
     "output_type": "stream",
     "text": [
      "Average Path Length (APL) = 0.9000900089198839\n"
     ]
    }
   ],
   "source": [
    "#Resource Consumption Efficiency\n",
    "RCE = FU/(np.sum(Z)+epsilon)\n",
    "print(\"Average Path Length (APL) =\", RCE)"
   ]
  },
  {
   "cell_type": "markdown",
   "id": "41a7100d-3587-4ed7-a466-855a09ff1921",
   "metadata": {},
   "source": [
    "# Reuse"
   ]
  },
  {
   "cell_type": "code",
   "execution_count": null,
   "id": "01fc7d86-44bc-4ec8-9dd3-813aaf323810",
   "metadata": {},
   "outputs": [],
   "source": []
  }
 ],
 "metadata": {
  "kernelspec": {
   "display_name": "Python 3 (ipykernel)",
   "language": "python",
   "name": "python3"
  },
  "language_info": {
   "codemirror_mode": {
    "name": "ipython",
    "version": 3
   },
   "file_extension": ".py",
   "mimetype": "text/x-python",
   "name": "python",
   "nbconvert_exporter": "python",
   "pygments_lexer": "ipython3",
   "version": "3.9.13"
  }
 },
 "nbformat": 4,
 "nbformat_minor": 5
}
